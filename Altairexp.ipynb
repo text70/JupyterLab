{
 "cells": [
  {
   "cell_type": "code",
   "execution_count": 1,
   "metadata": {},
   "outputs": [
    {
     "data": {
      "application/vnd.vegalite.v3+json": {
       "$schema": "https://vega.github.io/schema/vega-lite/v3.3.0.json",
       "config": {
        "mark": {
         "tooltip": null
        },
        "view": {
         "height": 300,
         "width": 400
        }
       },
       "data": {
        "name": "data-a264acbd6e539a8b3afc0cb5f240fb57"
       },
       "datasets": {
        "data-a264acbd6e539a8b3afc0cb5f240fb57": [
         {
          "petalLength": 1.4,
          "petalWidth": 0.2,
          "sepalLength": 5.1,
          "sepalWidth": 3.5,
          "species": "setosa"
         },
         {
          "petalLength": 1.4,
          "petalWidth": 0.2,
          "sepalLength": 4.9,
          "sepalWidth": 3,
          "species": "setosa"
         },
         {
          "petalLength": 1.3,
          "petalWidth": 0.2,
          "sepalLength": 4.7,
          "sepalWidth": 3.2,
          "species": "setosa"
         },
         {
          "petalLength": 1.5,
          "petalWidth": 0.2,
          "sepalLength": 4.6,
          "sepalWidth": 3.1,
          "species": "setosa"
         },
         {
          "petalLength": 1.4,
          "petalWidth": 0.2,
          "sepalLength": 5,
          "sepalWidth": 3.6,
          "species": "setosa"
         },
         {
          "petalLength": 1.7000000000000002,
          "petalWidth": 0.4,
          "sepalLength": 5.4,
          "sepalWidth": 3.9,
          "species": "setosa"
         },
         {
          "petalLength": 1.4,
          "petalWidth": 0.30000000000000004,
          "sepalLength": 4.6,
          "sepalWidth": 3.4,
          "species": "setosa"
         },
         {
          "petalLength": 1.5,
          "petalWidth": 0.2,
          "sepalLength": 5,
          "sepalWidth": 3.4,
          "species": "setosa"
         },
         {
          "petalLength": 1.4,
          "petalWidth": 0.2,
          "sepalLength": 4.4,
          "sepalWidth": 2.9,
          "species": "setosa"
         },
         {
          "petalLength": 1.5,
          "petalWidth": 0.1,
          "sepalLength": 4.9,
          "sepalWidth": 3.1,
          "species": "setosa"
         },
         {
          "petalLength": 1.5,
          "petalWidth": 0.2,
          "sepalLength": 5.4,
          "sepalWidth": 3.7,
          "species": "setosa"
         },
         {
          "petalLength": 1.6,
          "petalWidth": 0.2,
          "sepalLength": 4.8,
          "sepalWidth": 3.4,
          "species": "setosa"
         },
         {
          "petalLength": 1.4,
          "petalWidth": 0.1,
          "sepalLength": 4.8,
          "sepalWidth": 3,
          "species": "setosa"
         },
         {
          "petalLength": 1.1,
          "petalWidth": 0.1,
          "sepalLength": 4.3,
          "sepalWidth": 3,
          "species": "setosa"
         },
         {
          "petalLength": 1.2,
          "petalWidth": 0.2,
          "sepalLength": 5.8,
          "sepalWidth": 4,
          "species": "setosa"
         },
         {
          "petalLength": 1.5,
          "petalWidth": 0.4,
          "sepalLength": 5.7,
          "sepalWidth": 4.4,
          "species": "setosa"
         },
         {
          "petalLength": 1.3,
          "petalWidth": 0.4,
          "sepalLength": 5.4,
          "sepalWidth": 3.9,
          "species": "setosa"
         },
         {
          "petalLength": 1.4,
          "petalWidth": 0.30000000000000004,
          "sepalLength": 5.1,
          "sepalWidth": 3.5,
          "species": "setosa"
         },
         {
          "petalLength": 1.7000000000000002,
          "petalWidth": 0.30000000000000004,
          "sepalLength": 5.7,
          "sepalWidth": 3.8,
          "species": "setosa"
         },
         {
          "petalLength": 1.5,
          "petalWidth": 0.30000000000000004,
          "sepalLength": 5.1,
          "sepalWidth": 3.8,
          "species": "setosa"
         },
         {
          "petalLength": 1.7000000000000002,
          "petalWidth": 0.2,
          "sepalLength": 5.4,
          "sepalWidth": 3.4,
          "species": "setosa"
         },
         {
          "petalLength": 1.5,
          "petalWidth": 0.4,
          "sepalLength": 5.1,
          "sepalWidth": 3.7,
          "species": "setosa"
         },
         {
          "petalLength": 1,
          "petalWidth": 0.2,
          "sepalLength": 4.6,
          "sepalWidth": 3.6,
          "species": "setosa"
         },
         {
          "petalLength": 1.7000000000000002,
          "petalWidth": 0.5,
          "sepalLength": 5.1,
          "sepalWidth": 3.3,
          "species": "setosa"
         },
         {
          "petalLength": 1.9,
          "petalWidth": 0.2,
          "sepalLength": 4.8,
          "sepalWidth": 3.4,
          "species": "setosa"
         },
         {
          "petalLength": 1.6,
          "petalWidth": 0.2,
          "sepalLength": 5,
          "sepalWidth": 3,
          "species": "setosa"
         },
         {
          "petalLength": 1.6,
          "petalWidth": 0.4,
          "sepalLength": 5,
          "sepalWidth": 3.4,
          "species": "setosa"
         },
         {
          "petalLength": 1.5,
          "petalWidth": 0.2,
          "sepalLength": 5.2,
          "sepalWidth": 3.5,
          "species": "setosa"
         },
         {
          "petalLength": 1.4,
          "petalWidth": 0.2,
          "sepalLength": 5.2,
          "sepalWidth": 3.4,
          "species": "setosa"
         },
         {
          "petalLength": 1.6,
          "petalWidth": 0.2,
          "sepalLength": 4.7,
          "sepalWidth": 3.2,
          "species": "setosa"
         },
         {
          "petalLength": 1.6,
          "petalWidth": 0.2,
          "sepalLength": 4.8,
          "sepalWidth": 3.1,
          "species": "setosa"
         },
         {
          "petalLength": 1.5,
          "petalWidth": 0.4,
          "sepalLength": 5.4,
          "sepalWidth": 3.4,
          "species": "setosa"
         },
         {
          "petalLength": 1.5,
          "petalWidth": 0.1,
          "sepalLength": 5.2,
          "sepalWidth": 4.1,
          "species": "setosa"
         },
         {
          "petalLength": 1.4,
          "petalWidth": 0.2,
          "sepalLength": 5.5,
          "sepalWidth": 4.2,
          "species": "setosa"
         },
         {
          "petalLength": 1.5,
          "petalWidth": 0.2,
          "sepalLength": 4.9,
          "sepalWidth": 3.1,
          "species": "setosa"
         },
         {
          "petalLength": 1.2,
          "petalWidth": 0.2,
          "sepalLength": 5,
          "sepalWidth": 3.2,
          "species": "setosa"
         },
         {
          "petalLength": 1.3,
          "petalWidth": 0.2,
          "sepalLength": 5.5,
          "sepalWidth": 3.5,
          "species": "setosa"
         },
         {
          "petalLength": 1.4,
          "petalWidth": 0.1,
          "sepalLength": 4.9,
          "sepalWidth": 3.6,
          "species": "setosa"
         },
         {
          "petalLength": 1.3,
          "petalWidth": 0.2,
          "sepalLength": 4.4,
          "sepalWidth": 3,
          "species": "setosa"
         },
         {
          "petalLength": 1.5,
          "petalWidth": 0.2,
          "sepalLength": 5.1,
          "sepalWidth": 3.4,
          "species": "setosa"
         },
         {
          "petalLength": 1.3,
          "petalWidth": 0.30000000000000004,
          "sepalLength": 5,
          "sepalWidth": 3.5,
          "species": "setosa"
         },
         {
          "petalLength": 1.3,
          "petalWidth": 0.30000000000000004,
          "sepalLength": 4.5,
          "sepalWidth": 2.3,
          "species": "setosa"
         },
         {
          "petalLength": 1.3,
          "petalWidth": 0.2,
          "sepalLength": 4.4,
          "sepalWidth": 3.2,
          "species": "setosa"
         },
         {
          "petalLength": 1.6,
          "petalWidth": 0.6000000000000001,
          "sepalLength": 5,
          "sepalWidth": 3.5,
          "species": "setosa"
         },
         {
          "petalLength": 1.9,
          "petalWidth": 0.4,
          "sepalLength": 5.1,
          "sepalWidth": 3.8,
          "species": "setosa"
         },
         {
          "petalLength": 1.4,
          "petalWidth": 0.30000000000000004,
          "sepalLength": 4.8,
          "sepalWidth": 3,
          "species": "setosa"
         },
         {
          "petalLength": 1.6,
          "petalWidth": 0.2,
          "sepalLength": 5.1,
          "sepalWidth": 3.8,
          "species": "setosa"
         },
         {
          "petalLength": 1.4,
          "petalWidth": 0.2,
          "sepalLength": 4.6,
          "sepalWidth": 3.2,
          "species": "setosa"
         },
         {
          "petalLength": 1.5,
          "petalWidth": 0.2,
          "sepalLength": 5.3,
          "sepalWidth": 3.7,
          "species": "setosa"
         },
         {
          "petalLength": 1.4,
          "petalWidth": 0.2,
          "sepalLength": 5,
          "sepalWidth": 3.3,
          "species": "setosa"
         },
         {
          "petalLength": 4.7,
          "petalWidth": 1.4,
          "sepalLength": 7,
          "sepalWidth": 3.2,
          "species": "versicolor"
         },
         {
          "petalLength": 4.5,
          "petalWidth": 1.5,
          "sepalLength": 6.4,
          "sepalWidth": 3.2,
          "species": "versicolor"
         },
         {
          "petalLength": 4.9,
          "petalWidth": 1.5,
          "sepalLength": 6.9,
          "sepalWidth": 3.1,
          "species": "versicolor"
         },
         {
          "petalLength": 4,
          "petalWidth": 1.3,
          "sepalLength": 5.5,
          "sepalWidth": 2.3,
          "species": "versicolor"
         },
         {
          "petalLength": 4.6,
          "petalWidth": 1.5,
          "sepalLength": 6.5,
          "sepalWidth": 2.8,
          "species": "versicolor"
         },
         {
          "petalLength": 4.5,
          "petalWidth": 1.3,
          "sepalLength": 5.7,
          "sepalWidth": 2.8,
          "species": "versicolor"
         },
         {
          "petalLength": 4.7,
          "petalWidth": 1.6,
          "sepalLength": 6.3,
          "sepalWidth": 3.3,
          "species": "versicolor"
         },
         {
          "petalLength": 3.3,
          "petalWidth": 1,
          "sepalLength": 4.9,
          "sepalWidth": 2.4,
          "species": "versicolor"
         },
         {
          "petalLength": 4.6,
          "petalWidth": 1.3,
          "sepalLength": 6.6,
          "sepalWidth": 2.9,
          "species": "versicolor"
         },
         {
          "petalLength": 3.9,
          "petalWidth": 1.4,
          "sepalLength": 5.2,
          "sepalWidth": 2.7,
          "species": "versicolor"
         },
         {
          "petalLength": 3.5,
          "petalWidth": 1,
          "sepalLength": 5,
          "sepalWidth": 2,
          "species": "versicolor"
         },
         {
          "petalLength": 4.2,
          "petalWidth": 1.5,
          "sepalLength": 5.9,
          "sepalWidth": 3,
          "species": "versicolor"
         },
         {
          "petalLength": 4,
          "petalWidth": 1,
          "sepalLength": 6,
          "sepalWidth": 2.2,
          "species": "versicolor"
         },
         {
          "petalLength": 4.7,
          "petalWidth": 1.4,
          "sepalLength": 6.1,
          "sepalWidth": 2.9,
          "species": "versicolor"
         },
         {
          "petalLength": 3.6,
          "petalWidth": 1.3,
          "sepalLength": 5.6,
          "sepalWidth": 2.9,
          "species": "versicolor"
         },
         {
          "petalLength": 4.4,
          "petalWidth": 1.4,
          "sepalLength": 6.7,
          "sepalWidth": 3.1,
          "species": "versicolor"
         },
         {
          "petalLength": 4.5,
          "petalWidth": 1.5,
          "sepalLength": 5.6,
          "sepalWidth": 3,
          "species": "versicolor"
         },
         {
          "petalLength": 4.1,
          "petalWidth": 1,
          "sepalLength": 5.8,
          "sepalWidth": 2.7,
          "species": "versicolor"
         },
         {
          "petalLength": 4.5,
          "petalWidth": 1.5,
          "sepalLength": 6.2,
          "sepalWidth": 2.2,
          "species": "versicolor"
         },
         {
          "petalLength": 3.9,
          "petalWidth": 1.1,
          "sepalLength": 5.6,
          "sepalWidth": 2.5,
          "species": "versicolor"
         },
         {
          "petalLength": 4.8,
          "petalWidth": 1.8,
          "sepalLength": 5.9,
          "sepalWidth": 3.2,
          "species": "versicolor"
         },
         {
          "petalLength": 4,
          "petalWidth": 1.3,
          "sepalLength": 6.1,
          "sepalWidth": 2.8,
          "species": "versicolor"
         },
         {
          "petalLength": 4.9,
          "petalWidth": 1.5,
          "sepalLength": 6.3,
          "sepalWidth": 2.5,
          "species": "versicolor"
         },
         {
          "petalLength": 4.7,
          "petalWidth": 1.2,
          "sepalLength": 6.1,
          "sepalWidth": 2.8,
          "species": "versicolor"
         },
         {
          "petalLength": 4.3,
          "petalWidth": 1.3,
          "sepalLength": 6.4,
          "sepalWidth": 2.9,
          "species": "versicolor"
         },
         {
          "petalLength": 4.4,
          "petalWidth": 1.4,
          "sepalLength": 6.6,
          "sepalWidth": 3,
          "species": "versicolor"
         },
         {
          "petalLength": 4.8,
          "petalWidth": 1.4,
          "sepalLength": 6.8,
          "sepalWidth": 2.8,
          "species": "versicolor"
         },
         {
          "petalLength": 5,
          "petalWidth": 1.7000000000000002,
          "sepalLength": 6.7,
          "sepalWidth": 3,
          "species": "versicolor"
         },
         {
          "petalLength": 4.5,
          "petalWidth": 1.5,
          "sepalLength": 6,
          "sepalWidth": 2.9,
          "species": "versicolor"
         },
         {
          "petalLength": 3.5,
          "petalWidth": 1,
          "sepalLength": 5.7,
          "sepalWidth": 2.6,
          "species": "versicolor"
         },
         {
          "petalLength": 3.8,
          "petalWidth": 1.1,
          "sepalLength": 5.5,
          "sepalWidth": 2.4,
          "species": "versicolor"
         },
         {
          "petalLength": 3.7,
          "petalWidth": 1,
          "sepalLength": 5.5,
          "sepalWidth": 2.4,
          "species": "versicolor"
         },
         {
          "petalLength": 3.9,
          "petalWidth": 1.2,
          "sepalLength": 5.8,
          "sepalWidth": 2.7,
          "species": "versicolor"
         },
         {
          "petalLength": 5.1,
          "petalWidth": 1.6,
          "sepalLength": 6,
          "sepalWidth": 2.7,
          "species": "versicolor"
         },
         {
          "petalLength": 4.5,
          "petalWidth": 1.5,
          "sepalLength": 5.4,
          "sepalWidth": 3,
          "species": "versicolor"
         },
         {
          "petalLength": 4.5,
          "petalWidth": 1.6,
          "sepalLength": 6,
          "sepalWidth": 3.4,
          "species": "versicolor"
         },
         {
          "petalLength": 4.7,
          "petalWidth": 1.5,
          "sepalLength": 6.7,
          "sepalWidth": 3.1,
          "species": "versicolor"
         },
         {
          "petalLength": 4.4,
          "petalWidth": 1.3,
          "sepalLength": 6.3,
          "sepalWidth": 2.3,
          "species": "versicolor"
         },
         {
          "petalLength": 4.1,
          "petalWidth": 1.3,
          "sepalLength": 5.6,
          "sepalWidth": 3,
          "species": "versicolor"
         },
         {
          "petalLength": 4,
          "petalWidth": 1.3,
          "sepalLength": 5.5,
          "sepalWidth": 2.5,
          "species": "versicolor"
         },
         {
          "petalLength": 4.4,
          "petalWidth": 1.2,
          "sepalLength": 5.5,
          "sepalWidth": 2.6,
          "species": "versicolor"
         },
         {
          "petalLength": 4.6,
          "petalWidth": 1.4,
          "sepalLength": 6.1,
          "sepalWidth": 3,
          "species": "versicolor"
         },
         {
          "petalLength": 4,
          "petalWidth": 1.2,
          "sepalLength": 5.8,
          "sepalWidth": 2.6,
          "species": "versicolor"
         },
         {
          "petalLength": 3.3,
          "petalWidth": 1,
          "sepalLength": 5,
          "sepalWidth": 2.3,
          "species": "versicolor"
         },
         {
          "petalLength": 4.2,
          "petalWidth": 1.3,
          "sepalLength": 5.6,
          "sepalWidth": 2.7,
          "species": "versicolor"
         },
         {
          "petalLength": 4.2,
          "petalWidth": 1.2,
          "sepalLength": 5.7,
          "sepalWidth": 3,
          "species": "versicolor"
         },
         {
          "petalLength": 4.2,
          "petalWidth": 1.3,
          "sepalLength": 5.7,
          "sepalWidth": 2.9,
          "species": "versicolor"
         },
         {
          "petalLength": 4.3,
          "petalWidth": 1.3,
          "sepalLength": 6.2,
          "sepalWidth": 2.9,
          "species": "versicolor"
         },
         {
          "petalLength": 3,
          "petalWidth": 1.1,
          "sepalLength": 5.1,
          "sepalWidth": 2.5,
          "species": "versicolor"
         },
         {
          "petalLength": 4.1,
          "petalWidth": 1.3,
          "sepalLength": 5.7,
          "sepalWidth": 2.8,
          "species": "versicolor"
         },
         {
          "petalLength": 6,
          "petalWidth": 2.5,
          "sepalLength": 6.3,
          "sepalWidth": 3.3,
          "species": "virginica"
         },
         {
          "petalLength": 5.1,
          "petalWidth": 1.9,
          "sepalLength": 5.8,
          "sepalWidth": 2.7,
          "species": "virginica"
         },
         {
          "petalLength": 5.9,
          "petalWidth": 2.1,
          "sepalLength": 7.1,
          "sepalWidth": 3,
          "species": "virginica"
         },
         {
          "petalLength": 5.6,
          "petalWidth": 1.8,
          "sepalLength": 6.3,
          "sepalWidth": 2.9,
          "species": "virginica"
         },
         {
          "petalLength": 5.8,
          "petalWidth": 2.2,
          "sepalLength": 6.5,
          "sepalWidth": 3,
          "species": "virginica"
         },
         {
          "petalLength": 6.6,
          "petalWidth": 2.1,
          "sepalLength": 7.6,
          "sepalWidth": 3,
          "species": "virginica"
         },
         {
          "petalLength": 4.5,
          "petalWidth": 1.7000000000000002,
          "sepalLength": 4.9,
          "sepalWidth": 2.5,
          "species": "virginica"
         },
         {
          "petalLength": 6.3,
          "petalWidth": 1.8,
          "sepalLength": 7.3,
          "sepalWidth": 2.9,
          "species": "virginica"
         },
         {
          "petalLength": 5.8,
          "petalWidth": 1.8,
          "sepalLength": 6.7,
          "sepalWidth": 2.5,
          "species": "virginica"
         },
         {
          "petalLength": 6.1,
          "petalWidth": 2.5,
          "sepalLength": 7.2,
          "sepalWidth": 3.6,
          "species": "virginica"
         },
         {
          "petalLength": 5.1,
          "petalWidth": 2,
          "sepalLength": 6.5,
          "sepalWidth": 3.2,
          "species": "virginica"
         },
         {
          "petalLength": 5.3,
          "petalWidth": 1.9,
          "sepalLength": 6.4,
          "sepalWidth": 2.7,
          "species": "virginica"
         },
         {
          "petalLength": 5.5,
          "petalWidth": 2.1,
          "sepalLength": 6.8,
          "sepalWidth": 3,
          "species": "virginica"
         },
         {
          "petalLength": 5,
          "petalWidth": 2,
          "sepalLength": 5.7,
          "sepalWidth": 2.5,
          "species": "virginica"
         },
         {
          "petalLength": 5.1,
          "petalWidth": 2.4,
          "sepalLength": 5.8,
          "sepalWidth": 2.8,
          "species": "virginica"
         },
         {
          "petalLength": 5.3,
          "petalWidth": 2.3,
          "sepalLength": 6.4,
          "sepalWidth": 3.2,
          "species": "virginica"
         },
         {
          "petalLength": 5.5,
          "petalWidth": 1.8,
          "sepalLength": 6.5,
          "sepalWidth": 3,
          "species": "virginica"
         },
         {
          "petalLength": 6.7,
          "petalWidth": 2.2,
          "sepalLength": 7.7,
          "sepalWidth": 3.8,
          "species": "virginica"
         },
         {
          "petalLength": 6.9,
          "petalWidth": 2.3,
          "sepalLength": 7.7,
          "sepalWidth": 2.6,
          "species": "virginica"
         },
         {
          "petalLength": 5,
          "petalWidth": 1.5,
          "sepalLength": 6,
          "sepalWidth": 2.2,
          "species": "virginica"
         },
         {
          "petalLength": 5.7,
          "petalWidth": 2.3,
          "sepalLength": 6.9,
          "sepalWidth": 3.2,
          "species": "virginica"
         },
         {
          "petalLength": 4.9,
          "petalWidth": 2,
          "sepalLength": 5.6,
          "sepalWidth": 2.8,
          "species": "virginica"
         },
         {
          "petalLength": 6.7,
          "petalWidth": 2,
          "sepalLength": 7.7,
          "sepalWidth": 2.8,
          "species": "virginica"
         },
         {
          "petalLength": 4.9,
          "petalWidth": 1.8,
          "sepalLength": 6.3,
          "sepalWidth": 2.7,
          "species": "virginica"
         },
         {
          "petalLength": 5.7,
          "petalWidth": 2.1,
          "sepalLength": 6.7,
          "sepalWidth": 3.3,
          "species": "virginica"
         },
         {
          "petalLength": 6,
          "petalWidth": 1.8,
          "sepalLength": 7.2,
          "sepalWidth": 3.2,
          "species": "virginica"
         },
         {
          "petalLength": 4.8,
          "petalWidth": 1.8,
          "sepalLength": 6.2,
          "sepalWidth": 2.8,
          "species": "virginica"
         },
         {
          "petalLength": 4.9,
          "petalWidth": 1.8,
          "sepalLength": 6.1,
          "sepalWidth": 3,
          "species": "virginica"
         },
         {
          "petalLength": 5.6,
          "petalWidth": 2.1,
          "sepalLength": 6.4,
          "sepalWidth": 2.8,
          "species": "virginica"
         },
         {
          "petalLength": 5.8,
          "petalWidth": 1.6,
          "sepalLength": 7.2,
          "sepalWidth": 3,
          "species": "virginica"
         },
         {
          "petalLength": 6.1,
          "petalWidth": 1.9,
          "sepalLength": 7.4,
          "sepalWidth": 2.8,
          "species": "virginica"
         },
         {
          "petalLength": 6.4,
          "petalWidth": 2,
          "sepalLength": 7.9,
          "sepalWidth": 3.8,
          "species": "virginica"
         },
         {
          "petalLength": 5.6,
          "petalWidth": 2.2,
          "sepalLength": 6.4,
          "sepalWidth": 2.8,
          "species": "virginica"
         },
         {
          "petalLength": 5.1,
          "petalWidth": 1.5,
          "sepalLength": 6.3,
          "sepalWidth": 2.8,
          "species": "virginica"
         },
         {
          "petalLength": 5.6,
          "petalWidth": 1.4,
          "sepalLength": 6.1,
          "sepalWidth": 2.6,
          "species": "virginica"
         },
         {
          "petalLength": 6.1,
          "petalWidth": 2.3,
          "sepalLength": 7.7,
          "sepalWidth": 3,
          "species": "virginica"
         },
         {
          "petalLength": 5.6,
          "petalWidth": 2.4,
          "sepalLength": 6.3,
          "sepalWidth": 3.4,
          "species": "virginica"
         },
         {
          "petalLength": 5.5,
          "petalWidth": 1.8,
          "sepalLength": 6.4,
          "sepalWidth": 3.1,
          "species": "virginica"
         },
         {
          "petalLength": 4.8,
          "petalWidth": 1.8,
          "sepalLength": 6,
          "sepalWidth": 3,
          "species": "virginica"
         },
         {
          "petalLength": 5.4,
          "petalWidth": 2.1,
          "sepalLength": 6.9,
          "sepalWidth": 3.1,
          "species": "virginica"
         },
         {
          "petalLength": 5.6,
          "petalWidth": 2.4,
          "sepalLength": 6.7,
          "sepalWidth": 3.1,
          "species": "virginica"
         },
         {
          "petalLength": 5.1,
          "petalWidth": 2.3,
          "sepalLength": 6.9,
          "sepalWidth": 3.1,
          "species": "virginica"
         },
         {
          "petalLength": 5.1,
          "petalWidth": 1.9,
          "sepalLength": 5.8,
          "sepalWidth": 2.7,
          "species": "virginica"
         },
         {
          "petalLength": 5.9,
          "petalWidth": 2.3,
          "sepalLength": 6.8,
          "sepalWidth": 3.2,
          "species": "virginica"
         },
         {
          "petalLength": 5.7,
          "petalWidth": 2.5,
          "sepalLength": 6.7,
          "sepalWidth": 3.3,
          "species": "virginica"
         },
         {
          "petalLength": 5.2,
          "petalWidth": 2.3,
          "sepalLength": 6.7,
          "sepalWidth": 3,
          "species": "virginica"
         },
         {
          "petalLength": 5,
          "petalWidth": 1.9,
          "sepalLength": 6.3,
          "sepalWidth": 2.5,
          "species": "virginica"
         },
         {
          "petalLength": 5.2,
          "petalWidth": 2,
          "sepalLength": 6.5,
          "sepalWidth": 3,
          "species": "virginica"
         },
         {
          "petalLength": 5.4,
          "petalWidth": 2.3,
          "sepalLength": 6.2,
          "sepalWidth": 3.4,
          "species": "virginica"
         },
         {
          "petalLength": 5.1,
          "petalWidth": 1.8,
          "sepalLength": 5.9,
          "sepalWidth": 3,
          "species": "virginica"
         }
        ]
       },
       "encoding": {
        "color": {
         "field": "species",
         "type": "nominal"
        },
        "x": {
         "field": "petalLength",
         "type": "quantitative"
        },
        "y": {
         "field": "petalWidth",
         "type": "quantitative"
        }
       },
       "mark": "point"
      },
      "image/png": "[encoded data removed]",
      "text/plain": [
       "<VegaLite 3 object>\n",
       "\n",
       "If you see this message, it means the renderer has not been properly enabled\n",
       "for the frontend that you are using. For more information, see\n",
       "https://altair-viz.github.io/user_guide/troubleshooting.html\n"
      ]
     },
     "execution_count": 1,
     "metadata": {},
     "output_type": "execute_result"
    }
   ],
   "source": [
    "import altair as alt\n",
    "from vega_datasets import data\n",
    "\n",
    "iris = data.iris()\n",
    "\n",
    "alt.Chart(iris).mark_point().encode(\n",
    "    x='petalLength',\n",
    "    y='petalWidth',\n",
    "    color='species'\n",
    ")"
   ]
  },
  {
   "cell_type": "code",
   "execution_count": 2,
   "metadata": {},
   "outputs": [
    {
     "data": {
      "text/plain": [
       "['7zip',\n",
       " 'airports',\n",
       " 'anscombe',\n",
       " 'barley',\n",
       " 'birdstrikes',\n",
       " 'budget',\n",
       " 'budgets',\n",
       " 'burtin',\n",
       " 'cars',\n",
       " 'climate',\n",
       " 'co2-concentration',\n",
       " 'countries',\n",
       " 'crimea',\n",
       " 'disasters',\n",
       " 'driving',\n",
       " 'earthquakes',\n",
       " 'ffox',\n",
       " 'flare',\n",
       " 'flare-dependencies',\n",
       " 'flights-10k',\n",
       " 'flights-200k',\n",
       " 'flights-20k',\n",
       " 'flights-2k',\n",
       " 'flights-3m',\n",
       " 'flights-5k',\n",
       " 'flights-airport',\n",
       " 'gapminder',\n",
       " 'gapminder-health-income',\n",
       " 'gimp',\n",
       " 'github',\n",
       " 'graticule',\n",
       " 'income',\n",
       " 'iowa-electricity',\n",
       " 'iris',\n",
       " 'jobs',\n",
       " 'la-riots',\n",
       " 'londonBoroughs',\n",
       " 'londonCentroids',\n",
       " 'londonTubeLines',\n",
       " 'lookup_groups',\n",
       " 'lookup_people',\n",
       " 'miserables',\n",
       " 'monarchs',\n",
       " 'movies',\n",
       " 'normal-2d',\n",
       " 'obesity',\n",
       " 'points',\n",
       " 'population',\n",
       " 'population_engineers_hurricanes',\n",
       " 'seattle-temps',\n",
       " 'seattle-weather',\n",
       " 'sf-temps',\n",
       " 'sp500',\n",
       " 'stocks',\n",
       " 'udistrict',\n",
       " 'unemployment',\n",
       " 'unemployment-across-industries',\n",
       " 'us-10m',\n",
       " 'us-employment',\n",
       " 'us-state-capitals',\n",
       " 'weather',\n",
       " 'weball26',\n",
       " 'wheat',\n",
       " 'world-110m',\n",
       " 'zipcodes']"
      ]
     },
     "execution_count": 2,
     "metadata": {},
     "output_type": "execute_result"
    }
   ],
   "source": [
    " data.list_datasets()"
   ]
  },
  {
   "cell_type": "code",
   "execution_count": 3,
   "metadata": {},
   "outputs": [],
   "source": [
    "stocks = data.stocks()"
   ]
  },
  {
   "cell_type": "code",
   "execution_count": 4,
   "metadata": {},
   "outputs": [
    {
     "data": {
      "application/vnd.vegalite.v3+json": {
       "$schema": "https://vega.github.io/schema/vega-lite/v3.3.0.json",
       "config": {
        "mark": {
         "tooltip": null
        },
        "view": {
         "height": 300,
         "width": 400
        }
       },
       "data": {
        "url": "https://vega.github.io/vega-datasets/data/stocks.csv"
       },
       "layer": [
        {
         "encoding": {
          "color": {
           "field": "symbol",
           "type": "nominal"
          },
          "x": {
           "field": "date",
           "type": "temporal"
          },
          "y": {
           "field": "price",
           "type": "quantitative"
          }
         },
         "mark": "line",
         "transform": [
          {
           "filter": "(datum.symbol === 'GOOG')"
          }
         ]
        },
        {
         "encoding": {
          "color": {
           "field": "symbol",
           "type": "nominal"
          },
          "x": {
           "field": "date",
           "type": "temporal"
          },
          "y": {
           "field": "price",
           "type": "quantitative"
          }
         },
         "mark": "point",
         "transform": [
          {
           "filter": "(datum.symbol === 'GOOG')"
          }
         ]
        }
       ]
      },
      "image/png": "[encoded data removed]",
      "text/plain": [
       "<VegaLite 3 object>\n",
       "\n",
       "If you see this message, it means the renderer has not been properly enabled\n",
       "for the frontend that you are using. For more information, see\n",
       "https://altair-viz.github.io/user_guide/troubleshooting.html\n"
      ]
     },
     "execution_count": 4,
     "metadata": {},
     "output_type": "execute_result"
    }
   ],
   "source": [
    "import altair as alt\n",
    "from altair.expr import datum\n",
    "\n",
    "from vega_datasets import data\n",
    "stocks = data.stocks.url\n",
    "\n",
    "base = alt.Chart(stocks).encode(\n",
    "    x='date:T',\n",
    "    y='price:Q',\n",
    "    color='symbol:N'\n",
    ").transform_filter(\n",
    "    datum.symbol == 'GOOG'\n",
    ")\n",
    "\n",
    "base.mark_line() + base.mark_point()\n",
    "\n"
   ]
  },
  {
   "cell_type": "code",
   "execution_count": 16,
   "metadata": {},
   "outputs": [],
   "source": [
    "import pandas as pd"
   ]
  },
  {
   "cell_type": "code",
   "execution_count": 17,
   "metadata": {},
   "outputs": [],
   "source": [
    "from vega_datasets import data"
   ]
  },
  {
   "cell_type": "code",
   "execution_count": 18,
   "metadata": {},
   "outputs": [],
   "source": [
    "income = data.income()\n"
   ]
  },
  {
   "cell_type": "code",
   "execution_count": 20,
   "metadata": {},
   "outputs": [
    {
     "data": {
      "text/html": [
       "<div>\n",
       "<style scoped>\n",
       "    .dataframe tbody tr th:only-of-type {\n",
       "        vertical-align: middle;\n",
       "    }\n",
       "\n",
       "    .dataframe tbody tr th {\n",
       "        vertical-align: top;\n",
       "    }\n",
       "\n",
       "    .dataframe thead th {\n",
       "        text-align: right;\n",
       "    }\n",
       "</style>\n",
       "<table border=\"1\" class=\"dataframe\">\n",
       "  <thead>\n",
       "    <tr style=\"text-align: right;\">\n",
       "      <th></th>\n",
       "      <th>group</th>\n",
       "      <th>id</th>\n",
       "      <th>name</th>\n",
       "      <th>pct</th>\n",
       "      <th>region</th>\n",
       "      <th>total</th>\n",
       "    </tr>\n",
       "  </thead>\n",
       "  <tbody>\n",
       "    <tr>\n",
       "      <th>0</th>\n",
       "      <td>&lt;10000</td>\n",
       "      <td>1</td>\n",
       "      <td>Alabama</td>\n",
       "      <td>0.102</td>\n",
       "      <td>south</td>\n",
       "      <td>1837292</td>\n",
       "    </tr>\n",
       "    <tr>\n",
       "      <th>1</th>\n",
       "      <td>10000 to 14999</td>\n",
       "      <td>1</td>\n",
       "      <td>Alabama</td>\n",
       "      <td>0.072</td>\n",
       "      <td>south</td>\n",
       "      <td>1837292</td>\n",
       "    </tr>\n",
       "    <tr>\n",
       "      <th>2</th>\n",
       "      <td>15000 to 24999</td>\n",
       "      <td>1</td>\n",
       "      <td>Alabama</td>\n",
       "      <td>0.130</td>\n",
       "      <td>south</td>\n",
       "      <td>1837292</td>\n",
       "    </tr>\n",
       "    <tr>\n",
       "      <th>3</th>\n",
       "      <td>25000 to 34999</td>\n",
       "      <td>1</td>\n",
       "      <td>Alabama</td>\n",
       "      <td>0.115</td>\n",
       "      <td>south</td>\n",
       "      <td>1837292</td>\n",
       "    </tr>\n",
       "    <tr>\n",
       "      <th>4</th>\n",
       "      <td>35000 to 49999</td>\n",
       "      <td>1</td>\n",
       "      <td>Alabama</td>\n",
       "      <td>0.143</td>\n",
       "      <td>south</td>\n",
       "      <td>1837292</td>\n",
       "    </tr>\n",
       "    <tr>\n",
       "      <th>5</th>\n",
       "      <td>75000 to 99999</td>\n",
       "      <td>1</td>\n",
       "      <td>Alabama</td>\n",
       "      <td>0.108</td>\n",
       "      <td>south</td>\n",
       "      <td>1837292</td>\n",
       "    </tr>\n",
       "    <tr>\n",
       "      <th>6</th>\n",
       "      <td>50000 to 74999</td>\n",
       "      <td>1</td>\n",
       "      <td>Alabama</td>\n",
       "      <td>0.174</td>\n",
       "      <td>south</td>\n",
       "      <td>1837292</td>\n",
       "    </tr>\n",
       "    <tr>\n",
       "      <th>7</th>\n",
       "      <td>100000 to 149999</td>\n",
       "      <td>1</td>\n",
       "      <td>Alabama</td>\n",
       "      <td>0.100</td>\n",
       "      <td>south</td>\n",
       "      <td>1837292</td>\n",
       "    </tr>\n",
       "    <tr>\n",
       "      <th>8</th>\n",
       "      <td>150000 to 199999</td>\n",
       "      <td>1</td>\n",
       "      <td>Alabama</td>\n",
       "      <td>0.031</td>\n",
       "      <td>south</td>\n",
       "      <td>1837292</td>\n",
       "    </tr>\n",
       "    <tr>\n",
       "      <th>9</th>\n",
       "      <td>200000+</td>\n",
       "      <td>1</td>\n",
       "      <td>Alabama</td>\n",
       "      <td>0.025</td>\n",
       "      <td>south</td>\n",
       "      <td>1837292</td>\n",
       "    </tr>\n",
       "    <tr>\n",
       "      <th>10</th>\n",
       "      <td>&lt;10000</td>\n",
       "      <td>2</td>\n",
       "      <td>Alaska</td>\n",
       "      <td>0.037</td>\n",
       "      <td>west</td>\n",
       "      <td>250875</td>\n",
       "    </tr>\n",
       "    <tr>\n",
       "      <th>11</th>\n",
       "      <td>10000 to 14999</td>\n",
       "      <td>2</td>\n",
       "      <td>Alaska</td>\n",
       "      <td>0.037</td>\n",
       "      <td>west</td>\n",
       "      <td>250875</td>\n",
       "    </tr>\n",
       "    <tr>\n",
       "      <th>12</th>\n",
       "      <td>15000 to 24999</td>\n",
       "      <td>2</td>\n",
       "      <td>Alaska</td>\n",
       "      <td>0.077</td>\n",
       "      <td>west</td>\n",
       "      <td>250875</td>\n",
       "    </tr>\n",
       "    <tr>\n",
       "      <th>13</th>\n",
       "      <td>25000 to 34999</td>\n",
       "      <td>2</td>\n",
       "      <td>Alaska</td>\n",
       "      <td>0.075</td>\n",
       "      <td>west</td>\n",
       "      <td>250875</td>\n",
       "    </tr>\n",
       "    <tr>\n",
       "      <th>14</th>\n",
       "      <td>35000 to 49999</td>\n",
       "      <td>2</td>\n",
       "      <td>Alaska</td>\n",
       "      <td>0.120</td>\n",
       "      <td>west</td>\n",
       "      <td>250875</td>\n",
       "    </tr>\n",
       "    <tr>\n",
       "      <th>15</th>\n",
       "      <td>75000 to 99999</td>\n",
       "      <td>2</td>\n",
       "      <td>Alaska</td>\n",
       "      <td>0.152</td>\n",
       "      <td>west</td>\n",
       "      <td>250875</td>\n",
       "    </tr>\n",
       "    <tr>\n",
       "      <th>16</th>\n",
       "      <td>50000 to 74999</td>\n",
       "      <td>2</td>\n",
       "      <td>Alaska</td>\n",
       "      <td>0.187</td>\n",
       "      <td>west</td>\n",
       "      <td>250875</td>\n",
       "    </tr>\n",
       "    <tr>\n",
       "      <th>17</th>\n",
       "      <td>100000 to 149999</td>\n",
       "      <td>2</td>\n",
       "      <td>Alaska</td>\n",
       "      <td>0.182</td>\n",
       "      <td>west</td>\n",
       "      <td>250875</td>\n",
       "    </tr>\n",
       "    <tr>\n",
       "      <th>18</th>\n",
       "      <td>150000 to 199999</td>\n",
       "      <td>2</td>\n",
       "      <td>Alaska</td>\n",
       "      <td>0.077</td>\n",
       "      <td>west</td>\n",
       "      <td>250875</td>\n",
       "    </tr>\n",
       "    <tr>\n",
       "      <th>19</th>\n",
       "      <td>200000+</td>\n",
       "      <td>2</td>\n",
       "      <td>Alaska</td>\n",
       "      <td>0.056</td>\n",
       "      <td>west</td>\n",
       "      <td>250875</td>\n",
       "    </tr>\n",
       "    <tr>\n",
       "      <th>20</th>\n",
       "      <td>&lt;10000</td>\n",
       "      <td>4</td>\n",
       "      <td>Arizona</td>\n",
       "      <td>0.079</td>\n",
       "      <td>west</td>\n",
       "      <td>2381501</td>\n",
       "    </tr>\n",
       "    <tr>\n",
       "      <th>21</th>\n",
       "      <td>10000 to 14999</td>\n",
       "      <td>4</td>\n",
       "      <td>Arizona</td>\n",
       "      <td>0.055</td>\n",
       "      <td>west</td>\n",
       "      <td>2381501</td>\n",
       "    </tr>\n",
       "    <tr>\n",
       "      <th>22</th>\n",
       "      <td>15000 to 24999</td>\n",
       "      <td>4</td>\n",
       "      <td>Arizona</td>\n",
       "      <td>0.116</td>\n",
       "      <td>west</td>\n",
       "      <td>2381501</td>\n",
       "    </tr>\n",
       "    <tr>\n",
       "      <th>23</th>\n",
       "      <td>25000 to 34999</td>\n",
       "      <td>4</td>\n",
       "      <td>Arizona</td>\n",
       "      <td>0.113</td>\n",
       "      <td>west</td>\n",
       "      <td>2381501</td>\n",
       "    </tr>\n",
       "    <tr>\n",
       "      <th>24</th>\n",
       "      <td>35000 to 49999</td>\n",
       "      <td>4</td>\n",
       "      <td>Arizona</td>\n",
       "      <td>0.148</td>\n",
       "      <td>west</td>\n",
       "      <td>2381501</td>\n",
       "    </tr>\n",
       "    <tr>\n",
       "      <th>25</th>\n",
       "      <td>75000 to 99999</td>\n",
       "      <td>4</td>\n",
       "      <td>Arizona</td>\n",
       "      <td>0.115</td>\n",
       "      <td>west</td>\n",
       "      <td>2381501</td>\n",
       "    </tr>\n",
       "    <tr>\n",
       "      <th>26</th>\n",
       "      <td>50000 to 74999</td>\n",
       "      <td>4</td>\n",
       "      <td>Arizona</td>\n",
       "      <td>0.185</td>\n",
       "      <td>west</td>\n",
       "      <td>2381501</td>\n",
       "    </tr>\n",
       "    <tr>\n",
       "      <th>27</th>\n",
       "      <td>100000 to 149999</td>\n",
       "      <td>4</td>\n",
       "      <td>Arizona</td>\n",
       "      <td>0.115</td>\n",
       "      <td>west</td>\n",
       "      <td>2381501</td>\n",
       "    </tr>\n",
       "    <tr>\n",
       "      <th>28</th>\n",
       "      <td>150000 to 199999</td>\n",
       "      <td>4</td>\n",
       "      <td>Arizona</td>\n",
       "      <td>0.039</td>\n",
       "      <td>west</td>\n",
       "      <td>2381501</td>\n",
       "    </tr>\n",
       "    <tr>\n",
       "      <th>29</th>\n",
       "      <td>200000+</td>\n",
       "      <td>4</td>\n",
       "      <td>Arizona</td>\n",
       "      <td>0.034</td>\n",
       "      <td>west</td>\n",
       "      <td>2381501</td>\n",
       "    </tr>\n",
       "    <tr>\n",
       "      <th>...</th>\n",
       "      <td>...</td>\n",
       "      <td>...</td>\n",
       "      <td>...</td>\n",
       "      <td>...</td>\n",
       "      <td>...</td>\n",
       "      <td>...</td>\n",
       "    </tr>\n",
       "    <tr>\n",
       "      <th>490</th>\n",
       "      <td>&lt;10000</td>\n",
       "      <td>55</td>\n",
       "      <td>Wisconsin</td>\n",
       "      <td>0.062</td>\n",
       "      <td>midwest</td>\n",
       "      <td>2281781</td>\n",
       "    </tr>\n",
       "    <tr>\n",
       "      <th>491</th>\n",
       "      <td>10000 to 14999</td>\n",
       "      <td>55</td>\n",
       "      <td>Wisconsin</td>\n",
       "      <td>0.055</td>\n",
       "      <td>midwest</td>\n",
       "      <td>2281781</td>\n",
       "    </tr>\n",
       "    <tr>\n",
       "      <th>492</th>\n",
       "      <td>15000 to 24999</td>\n",
       "      <td>55</td>\n",
       "      <td>Wisconsin</td>\n",
       "      <td>0.111</td>\n",
       "      <td>midwest</td>\n",
       "      <td>2281781</td>\n",
       "    </tr>\n",
       "    <tr>\n",
       "      <th>493</th>\n",
       "      <td>25000 to 34999</td>\n",
       "      <td>55</td>\n",
       "      <td>Wisconsin</td>\n",
       "      <td>0.107</td>\n",
       "      <td>midwest</td>\n",
       "      <td>2281781</td>\n",
       "    </tr>\n",
       "    <tr>\n",
       "      <th>494</th>\n",
       "      <td>35000 to 49999</td>\n",
       "      <td>55</td>\n",
       "      <td>Wisconsin</td>\n",
       "      <td>0.147</td>\n",
       "      <td>midwest</td>\n",
       "      <td>2281781</td>\n",
       "    </tr>\n",
       "    <tr>\n",
       "      <th>495</th>\n",
       "      <td>75000 to 99999</td>\n",
       "      <td>55</td>\n",
       "      <td>Wisconsin</td>\n",
       "      <td>0.131</td>\n",
       "      <td>midwest</td>\n",
       "      <td>2281781</td>\n",
       "    </tr>\n",
       "    <tr>\n",
       "      <th>496</th>\n",
       "      <td>50000 to 74999</td>\n",
       "      <td>55</td>\n",
       "      <td>Wisconsin</td>\n",
       "      <td>0.199</td>\n",
       "      <td>midwest</td>\n",
       "      <td>2281781</td>\n",
       "    </tr>\n",
       "    <tr>\n",
       "      <th>497</th>\n",
       "      <td>100000 to 149999</td>\n",
       "      <td>55</td>\n",
       "      <td>Wisconsin</td>\n",
       "      <td>0.123</td>\n",
       "      <td>midwest</td>\n",
       "      <td>2281781</td>\n",
       "    </tr>\n",
       "    <tr>\n",
       "      <th>498</th>\n",
       "      <td>150000 to 199999</td>\n",
       "      <td>55</td>\n",
       "      <td>Wisconsin</td>\n",
       "      <td>0.035</td>\n",
       "      <td>midwest</td>\n",
       "      <td>2281781</td>\n",
       "    </tr>\n",
       "    <tr>\n",
       "      <th>499</th>\n",
       "      <td>200000+</td>\n",
       "      <td>55</td>\n",
       "      <td>Wisconsin</td>\n",
       "      <td>0.030</td>\n",
       "      <td>midwest</td>\n",
       "      <td>2281781</td>\n",
       "    </tr>\n",
       "    <tr>\n",
       "      <th>500</th>\n",
       "      <td>&lt;10000</td>\n",
       "      <td>56</td>\n",
       "      <td>Wyoming</td>\n",
       "      <td>0.048</td>\n",
       "      <td>west</td>\n",
       "      <td>222679</td>\n",
       "    </tr>\n",
       "    <tr>\n",
       "      <th>501</th>\n",
       "      <td>10000 to 14999</td>\n",
       "      <td>56</td>\n",
       "      <td>Wyoming</td>\n",
       "      <td>0.050</td>\n",
       "      <td>west</td>\n",
       "      <td>222679</td>\n",
       "    </tr>\n",
       "    <tr>\n",
       "      <th>502</th>\n",
       "      <td>15000 to 24999</td>\n",
       "      <td>56</td>\n",
       "      <td>Wyoming</td>\n",
       "      <td>0.098</td>\n",
       "      <td>west</td>\n",
       "      <td>222679</td>\n",
       "    </tr>\n",
       "    <tr>\n",
       "      <th>503</th>\n",
       "      <td>25000 to 34999</td>\n",
       "      <td>56</td>\n",
       "      <td>Wyoming</td>\n",
       "      <td>0.103</td>\n",
       "      <td>west</td>\n",
       "      <td>222679</td>\n",
       "    </tr>\n",
       "    <tr>\n",
       "      <th>504</th>\n",
       "      <td>35000 to 49999</td>\n",
       "      <td>56</td>\n",
       "      <td>Wyoming</td>\n",
       "      <td>0.139</td>\n",
       "      <td>west</td>\n",
       "      <td>222679</td>\n",
       "    </tr>\n",
       "    <tr>\n",
       "      <th>505</th>\n",
       "      <td>75000 to 99999</td>\n",
       "      <td>56</td>\n",
       "      <td>Wyoming</td>\n",
       "      <td>0.142</td>\n",
       "      <td>west</td>\n",
       "      <td>222679</td>\n",
       "    </tr>\n",
       "    <tr>\n",
       "      <th>506</th>\n",
       "      <td>50000 to 74999</td>\n",
       "      <td>56</td>\n",
       "      <td>Wyoming</td>\n",
       "      <td>0.196</td>\n",
       "      <td>west</td>\n",
       "      <td>222679</td>\n",
       "    </tr>\n",
       "    <tr>\n",
       "      <th>507</th>\n",
       "      <td>100000 to 149999</td>\n",
       "      <td>56</td>\n",
       "      <td>Wyoming</td>\n",
       "      <td>0.151</td>\n",
       "      <td>west</td>\n",
       "      <td>222679</td>\n",
       "    </tr>\n",
       "    <tr>\n",
       "      <th>508</th>\n",
       "      <td>150000 to 199999</td>\n",
       "      <td>56</td>\n",
       "      <td>Wyoming</td>\n",
       "      <td>0.044</td>\n",
       "      <td>west</td>\n",
       "      <td>222679</td>\n",
       "    </tr>\n",
       "    <tr>\n",
       "      <th>509</th>\n",
       "      <td>200000+</td>\n",
       "      <td>56</td>\n",
       "      <td>Wyoming</td>\n",
       "      <td>0.029</td>\n",
       "      <td>west</td>\n",
       "      <td>222679</td>\n",
       "    </tr>\n",
       "    <tr>\n",
       "      <th>510</th>\n",
       "      <td>&lt;10000</td>\n",
       "      <td>72</td>\n",
       "      <td>Puerto Rico</td>\n",
       "      <td>0.289</td>\n",
       "      <td>other</td>\n",
       "      <td>1254274</td>\n",
       "    </tr>\n",
       "    <tr>\n",
       "      <th>511</th>\n",
       "      <td>10000 to 14999</td>\n",
       "      <td>72</td>\n",
       "      <td>Puerto Rico</td>\n",
       "      <td>0.118</td>\n",
       "      <td>other</td>\n",
       "      <td>1254274</td>\n",
       "    </tr>\n",
       "    <tr>\n",
       "      <th>512</th>\n",
       "      <td>15000 to 24999</td>\n",
       "      <td>72</td>\n",
       "      <td>Puerto Rico</td>\n",
       "      <td>0.186</td>\n",
       "      <td>other</td>\n",
       "      <td>1254274</td>\n",
       "    </tr>\n",
       "    <tr>\n",
       "      <th>513</th>\n",
       "      <td>25000 to 34999</td>\n",
       "      <td>72</td>\n",
       "      <td>Puerto Rico</td>\n",
       "      <td>0.123</td>\n",
       "      <td>other</td>\n",
       "      <td>1254274</td>\n",
       "    </tr>\n",
       "    <tr>\n",
       "      <th>514</th>\n",
       "      <td>35000 to 49999</td>\n",
       "      <td>72</td>\n",
       "      <td>Puerto Rico</td>\n",
       "      <td>0.116</td>\n",
       "      <td>other</td>\n",
       "      <td>1254274</td>\n",
       "    </tr>\n",
       "    <tr>\n",
       "      <th>515</th>\n",
       "      <td>75000 to 99999</td>\n",
       "      <td>72</td>\n",
       "      <td>Puerto Rico</td>\n",
       "      <td>0.035</td>\n",
       "      <td>other</td>\n",
       "      <td>1254274</td>\n",
       "    </tr>\n",
       "    <tr>\n",
       "      <th>516</th>\n",
       "      <td>50000 to 74999</td>\n",
       "      <td>72</td>\n",
       "      <td>Puerto Rico</td>\n",
       "      <td>0.094</td>\n",
       "      <td>other</td>\n",
       "      <td>1254274</td>\n",
       "    </tr>\n",
       "    <tr>\n",
       "      <th>517</th>\n",
       "      <td>100000 to 149999</td>\n",
       "      <td>72</td>\n",
       "      <td>Puerto Rico</td>\n",
       "      <td>0.024</td>\n",
       "      <td>other</td>\n",
       "      <td>1254274</td>\n",
       "    </tr>\n",
       "    <tr>\n",
       "      <th>518</th>\n",
       "      <td>150000 to 199999</td>\n",
       "      <td>72</td>\n",
       "      <td>Puerto Rico</td>\n",
       "      <td>0.008</td>\n",
       "      <td>other</td>\n",
       "      <td>1254274</td>\n",
       "    </tr>\n",
       "    <tr>\n",
       "      <th>519</th>\n",
       "      <td>200000+</td>\n",
       "      <td>72</td>\n",
       "      <td>Puerto Rico</td>\n",
       "      <td>0.006</td>\n",
       "      <td>other</td>\n",
       "      <td>1254274</td>\n",
       "    </tr>\n",
       "  </tbody>\n",
       "</table>\n",
       "<p>520 rows × 6 columns</p>\n",
       "</div>"
      ],
      "text/plain": [
       "                group  id         name    pct   region    total\n",
       "0              <10000   1      Alabama  0.102    south  1837292\n",
       "1      10000 to 14999   1      Alabama  0.072    south  1837292\n",
       "2      15000 to 24999   1      Alabama  0.130    south  1837292\n",
       "3      25000 to 34999   1      Alabama  0.115    south  1837292\n",
       "4      35000 to 49999   1      Alabama  0.143    south  1837292\n",
       "5      75000 to 99999   1      Alabama  0.108    south  1837292\n",
       "6      50000 to 74999   1      Alabama  0.174    south  1837292\n",
       "7    100000 to 149999   1      Alabama  0.100    south  1837292\n",
       "8    150000 to 199999   1      Alabama  0.031    south  1837292\n",
       "9             200000+   1      Alabama  0.025    south  1837292\n",
       "10             <10000   2       Alaska  0.037     west   250875\n",
       "11     10000 to 14999   2       Alaska  0.037     west   250875\n",
       "12     15000 to 24999   2       Alaska  0.077     west   250875\n",
       "13     25000 to 34999   2       Alaska  0.075     west   250875\n",
       "14     35000 to 49999   2       Alaska  0.120     west   250875\n",
       "15     75000 to 99999   2       Alaska  0.152     west   250875\n",
       "16     50000 to 74999   2       Alaska  0.187     west   250875\n",
       "17   100000 to 149999   2       Alaska  0.182     west   250875\n",
       "18   150000 to 199999   2       Alaska  0.077     west   250875\n",
       "19            200000+   2       Alaska  0.056     west   250875\n",
       "20             <10000   4      Arizona  0.079     west  2381501\n",
       "21     10000 to 14999   4      Arizona  0.055     west  2381501\n",
       "22     15000 to 24999   4      Arizona  0.116     west  2381501\n",
       "23     25000 to 34999   4      Arizona  0.113     west  2381501\n",
       "24     35000 to 49999   4      Arizona  0.148     west  2381501\n",
       "25     75000 to 99999   4      Arizona  0.115     west  2381501\n",
       "26     50000 to 74999   4      Arizona  0.185     west  2381501\n",
       "27   100000 to 149999   4      Arizona  0.115     west  2381501\n",
       "28   150000 to 199999   4      Arizona  0.039     west  2381501\n",
       "29            200000+   4      Arizona  0.034     west  2381501\n",
       "..                ...  ..          ...    ...      ...      ...\n",
       "490            <10000  55    Wisconsin  0.062  midwest  2281781\n",
       "491    10000 to 14999  55    Wisconsin  0.055  midwest  2281781\n",
       "492    15000 to 24999  55    Wisconsin  0.111  midwest  2281781\n",
       "493    25000 to 34999  55    Wisconsin  0.107  midwest  2281781\n",
       "494    35000 to 49999  55    Wisconsin  0.147  midwest  2281781\n",
       "495    75000 to 99999  55    Wisconsin  0.131  midwest  2281781\n",
       "496    50000 to 74999  55    Wisconsin  0.199  midwest  2281781\n",
       "497  100000 to 149999  55    Wisconsin  0.123  midwest  2281781\n",
       "498  150000 to 199999  55    Wisconsin  0.035  midwest  2281781\n",
       "499           200000+  55    Wisconsin  0.030  midwest  2281781\n",
       "500            <10000  56      Wyoming  0.048     west   222679\n",
       "501    10000 to 14999  56      Wyoming  0.050     west   222679\n",
       "502    15000 to 24999  56      Wyoming  0.098     west   222679\n",
       "503    25000 to 34999  56      Wyoming  0.103     west   222679\n",
       "504    35000 to 49999  56      Wyoming  0.139     west   222679\n",
       "505    75000 to 99999  56      Wyoming  0.142     west   222679\n",
       "506    50000 to 74999  56      Wyoming  0.196     west   222679\n",
       "507  100000 to 149999  56      Wyoming  0.151     west   222679\n",
       "508  150000 to 199999  56      Wyoming  0.044     west   222679\n",
       "509           200000+  56      Wyoming  0.029     west   222679\n",
       "510            <10000  72  Puerto Rico  0.289    other  1254274\n",
       "511    10000 to 14999  72  Puerto Rico  0.118    other  1254274\n",
       "512    15000 to 24999  72  Puerto Rico  0.186    other  1254274\n",
       "513    25000 to 34999  72  Puerto Rico  0.123    other  1254274\n",
       "514    35000 to 49999  72  Puerto Rico  0.116    other  1254274\n",
       "515    75000 to 99999  72  Puerto Rico  0.035    other  1254274\n",
       "516    50000 to 74999  72  Puerto Rico  0.094    other  1254274\n",
       "517  100000 to 149999  72  Puerto Rico  0.024    other  1254274\n",
       "518  150000 to 199999  72  Puerto Rico  0.008    other  1254274\n",
       "519           200000+  72  Puerto Rico  0.006    other  1254274\n",
       "\n",
       "[520 rows x 6 columns]"
      ]
     },
     "execution_count": 20,
     "metadata": {},
     "output_type": "execute_result"
    }
   ],
   "source": [
    "pd.DataFrame(data=income)"
   ]
  },
  {
   "cell_type": "code",
   "execution_count": 31,
   "metadata": {},
   "outputs": [
    {
     "data": {
      "application/vnd.vegalite.v3+json": {
       "$schema": "https://vega.github.io/schema/vega-lite/v3.3.0.json",
       "config": {
        "mark": {
         "tooltip": null
        },
        "view": {
         "height": 300,
         "width": 400
        }
       },
       "data": {
        "name": "data-ee8316a3930fd17dc328a17dd367a649"
       },
       "datasets": {
        "data-ee8316a3930fd17dc328a17dd367a649": [
         {
          "group": "<10000",
          "id": 1,
          "name": "Alabama",
          "pct": 0.10200000000000001,
          "region": "south",
          "total": 1837292
         },
         {
          "group": "10000 to 14999",
          "id": 1,
          "name": "Alabama",
          "pct": 0.07200000000000001,
          "region": "south",
          "total": 1837292
         },
         {
          "group": "15000 to 24999",
          "id": 1,
          "name": "Alabama",
          "pct": 0.13,
          "region": "south",
          "total": 1837292
         },
         {
          "group": "25000 to 34999",
          "id": 1,
          "name": "Alabama",
          "pct": 0.115,
          "region": "south",
          "total": 1837292
         },
         {
          "group": "35000 to 49999",
          "id": 1,
          "name": "Alabama",
          "pct": 0.14300000000000002,
          "region": "south",
          "total": 1837292
         },
         {
          "group": "75000 to 99999",
          "id": 1,
          "name": "Alabama",
          "pct": 0.108,
          "region": "south",
          "total": 1837292
         },
         {
          "group": "50000 to 74999",
          "id": 1,
          "name": "Alabama",
          "pct": 0.17400000000000002,
          "region": "south",
          "total": 1837292
         },
         {
          "group": "100000 to 149999",
          "id": 1,
          "name": "Alabama",
          "pct": 0.1,
          "region": "south",
          "total": 1837292
         },
         {
          "group": "150000 to 199999",
          "id": 1,
          "name": "Alabama",
          "pct": 0.031,
          "region": "south",
          "total": 1837292
         },
         {
          "group": "200000+",
          "id": 1,
          "name": "Alabama",
          "pct": 0.025,
          "region": "south",
          "total": 1837292
         },
         {
          "group": "<10000",
          "id": 2,
          "name": "Alaska",
          "pct": 0.037,
          "region": "west",
          "total": 250875
         },
         {
          "group": "10000 to 14999",
          "id": 2,
          "name": "Alaska",
          "pct": 0.037,
          "region": "west",
          "total": 250875
         },
         {
          "group": "15000 to 24999",
          "id": 2,
          "name": "Alaska",
          "pct": 0.077,
          "region": "west",
          "total": 250875
         },
         {
          "group": "25000 to 34999",
          "id": 2,
          "name": "Alaska",
          "pct": 0.075,
          "region": "west",
          "total": 250875
         },
         {
          "group": "35000 to 49999",
          "id": 2,
          "name": "Alaska",
          "pct": 0.12,
          "region": "west",
          "total": 250875
         },
         {
          "group": "75000 to 99999",
          "id": 2,
          "name": "Alaska",
          "pct": 0.152,
          "region": "west",
          "total": 250875
         },
         {
          "group": "50000 to 74999",
          "id": 2,
          "name": "Alaska",
          "pct": 0.187,
          "region": "west",
          "total": 250875
         },
         {
          "group": "100000 to 149999",
          "id": 2,
          "name": "Alaska",
          "pct": 0.182,
          "region": "west",
          "total": 250875
         },
         {
          "group": "150000 to 199999",
          "id": 2,
          "name": "Alaska",
          "pct": 0.077,
          "region": "west",
          "total": 250875
         },
         {
          "group": "200000+",
          "id": 2,
          "name": "Alaska",
          "pct": 0.056,
          "region": "west",
          "total": 250875
         },
         {
          "group": "<10000",
          "id": 4,
          "name": "Arizona",
          "pct": 0.079,
          "region": "west",
          "total": 2381501
         },
         {
          "group": "10000 to 14999",
          "id": 4,
          "name": "Arizona",
          "pct": 0.055,
          "region": "west",
          "total": 2381501
         },
         {
          "group": "15000 to 24999",
          "id": 4,
          "name": "Arizona",
          "pct": 0.116,
          "region": "west",
          "total": 2381501
         },
         {
          "group": "25000 to 34999",
          "id": 4,
          "name": "Arizona",
          "pct": 0.113,
          "region": "west",
          "total": 2381501
         },
         {
          "group": "35000 to 49999",
          "id": 4,
          "name": "Arizona",
          "pct": 0.148,
          "region": "west",
          "total": 2381501
         },
         {
          "group": "75000 to 99999",
          "id": 4,
          "name": "Arizona",
          "pct": 0.115,
          "region": "west",
          "total": 2381501
         },
         {
          "group": "50000 to 74999",
          "id": 4,
          "name": "Arizona",
          "pct": 0.185,
          "region": "west",
          "total": 2381501
         },
         {
          "group": "100000 to 149999",
          "id": 4,
          "name": "Arizona",
          "pct": 0.115,
          "region": "west",
          "total": 2381501
         },
         {
          "group": "150000 to 199999",
          "id": 4,
          "name": "Arizona",
          "pct": 0.039,
          "region": "west",
          "total": 2381501
         },
         {
          "group": "200000+",
          "id": 4,
          "name": "Arizona",
          "pct": 0.034,
          "region": "west",
          "total": 2381501
         },
         {
          "group": "<10000",
          "id": 5,
          "name": "Arkansas",
          "pct": 0.097,
          "region": "south",
          "total": 1130417
         },
         {
          "group": "10000 to 14999",
          "id": 5,
          "name": "Arkansas",
          "pct": 0.078,
          "region": "south",
          "total": 1130417
         },
         {
          "group": "15000 to 24999",
          "id": 5,
          "name": "Arkansas",
          "pct": 0.14300000000000002,
          "region": "south",
          "total": 1130417
         },
         {
          "group": "25000 to 34999",
          "id": 5,
          "name": "Arkansas",
          "pct": 0.124,
          "region": "south",
          "total": 1130417
         },
         {
          "group": "35000 to 49999",
          "id": 5,
          "name": "Arkansas",
          "pct": 0.151,
          "region": "south",
          "total": 1130417
         },
         {
          "group": "75000 to 99999",
          "id": 5,
          "name": "Arkansas",
          "pct": 0.098,
          "region": "south",
          "total": 1130417
         },
         {
          "group": "50000 to 74999",
          "id": 5,
          "name": "Arkansas",
          "pct": 0.176,
          "region": "south",
          "total": 1130417
         },
         {
          "group": "100000 to 149999",
          "id": 5,
          "name": "Arkansas",
          "pct": 0.088,
          "region": "south",
          "total": 1130417
         },
         {
          "group": "150000 to 199999",
          "id": 5,
          "name": "Arkansas",
          "pct": 0.025,
          "region": "south",
          "total": 1130417
         },
         {
          "group": "200000+",
          "id": 5,
          "name": "Arkansas",
          "pct": 0.021,
          "region": "south",
          "total": 1130417
         },
         {
          "group": "<10000",
          "id": 6,
          "name": "California",
          "pct": 0.061,
          "region": "west",
          "total": 12581722
         },
         {
          "group": "10000 to 14999",
          "id": 6,
          "name": "California",
          "pct": 0.053,
          "region": "west",
          "total": 12581722
         },
         {
          "group": "15000 to 24999",
          "id": 6,
          "name": "California",
          "pct": 0.099,
          "region": "west",
          "total": 12581722
         },
         {
          "group": "25000 to 34999",
          "id": 6,
          "name": "California",
          "pct": 0.092,
          "region": "west",
          "total": 12581722
         },
         {
          "group": "35000 to 49999",
          "id": 6,
          "name": "California",
          "pct": 0.124,
          "region": "west",
          "total": 12581722
         },
         {
          "group": "75000 to 99999",
          "id": 6,
          "name": "California",
          "pct": 0.11900000000000001,
          "region": "west",
          "total": 12581722
         },
         {
          "group": "50000 to 74999",
          "id": 6,
          "name": "California",
          "pct": 0.169,
          "region": "west",
          "total": 12581722
         },
         {
          "group": "100000 to 149999",
          "id": 6,
          "name": "California",
          "pct": 0.146,
          "region": "west",
          "total": 12581722
         },
         {
          "group": "150000 to 199999",
          "id": 6,
          "name": "California",
          "pct": 0.065,
          "region": "west",
          "total": 12581722
         },
         {
          "group": "200000+",
          "id": 6,
          "name": "California",
          "pct": 0.07200000000000001,
          "region": "west",
          "total": 12581722
         },
         {
          "group": "<10000",
          "id": 8,
          "name": "Colorado",
          "pct": 0.062,
          "region": "west",
          "total": 1989371
         },
         {
          "group": "10000 to 14999",
          "id": 8,
          "name": "Colorado",
          "pct": 0.044,
          "region": "west",
          "total": 1989371
         },
         {
          "group": "15000 to 24999",
          "id": 8,
          "name": "Colorado",
          "pct": 0.096,
          "region": "west",
          "total": 1989371
         },
         {
          "group": "25000 to 34999",
          "id": 8,
          "name": "Colorado",
          "pct": 0.097,
          "region": "west",
          "total": 1989371
         },
         {
          "group": "35000 to 49999",
          "id": 8,
          "name": "Colorado",
          "pct": 0.134,
          "region": "west",
          "total": 1989371
         },
         {
          "group": "75000 to 99999",
          "id": 8,
          "name": "Colorado",
          "pct": 0.13,
          "region": "west",
          "total": 1989371
         },
         {
          "group": "50000 to 74999",
          "id": 8,
          "name": "Colorado",
          "pct": 0.185,
          "region": "west",
          "total": 1989371
         },
         {
          "group": "100000 to 149999",
          "id": 8,
          "name": "Colorado",
          "pct": 0.14200000000000002,
          "region": "west",
          "total": 1989371
         },
         {
          "group": "150000 to 199999",
          "id": 8,
          "name": "Colorado",
          "pct": 0.057,
          "region": "west",
          "total": 1989371
         },
         {
          "group": "200000+",
          "id": 8,
          "name": "Colorado",
          "pct": 0.053,
          "region": "west",
          "total": 1989371
         },
         {
          "group": "<10000",
          "id": 9,
          "name": "Connecticut",
          "pct": 0.059000000000000004,
          "region": "northeast",
          "total": 1348275
         },
         {
          "group": "10000 to 14999",
          "id": 9,
          "name": "Connecticut",
          "pct": 0.042,
          "region": "northeast",
          "total": 1348275
         },
         {
          "group": "15000 to 24999",
          "id": 9,
          "name": "Connecticut",
          "pct": 0.085,
          "region": "northeast",
          "total": 1348275
         },
         {
          "group": "25000 to 34999",
          "id": 9,
          "name": "Connecticut",
          "pct": 0.08,
          "region": "northeast",
          "total": 1348275
         },
         {
          "group": "35000 to 49999",
          "id": 9,
          "name": "Connecticut",
          "pct": 0.109,
          "region": "northeast",
          "total": 1348275
         },
         {
          "group": "75000 to 99999",
          "id": 9,
          "name": "Connecticut",
          "pct": 0.128,
          "region": "northeast",
          "total": 1348275
         },
         {
          "group": "50000 to 74999",
          "id": 9,
          "name": "Connecticut",
          "pct": 0.166,
          "region": "northeast",
          "total": 1348275
         },
         {
          "group": "100000 to 149999",
          "id": 9,
          "name": "Connecticut",
          "pct": 0.165,
          "region": "northeast",
          "total": 1348275
         },
         {
          "group": "150000 to 199999",
          "id": 9,
          "name": "Connecticut",
          "pct": 0.076,
          "region": "northeast",
          "total": 1348275
         },
         {
          "group": "200000+",
          "id": 9,
          "name": "Connecticut",
          "pct": 0.09,
          "region": "northeast",
          "total": 1348275
         },
         {
          "group": "<10000",
          "id": 10,
          "name": "Delaware",
          "pct": 0.057,
          "region": "south",
          "total": 337245
         },
         {
          "group": "10000 to 14999",
          "id": 10,
          "name": "Delaware",
          "pct": 0.042,
          "region": "south",
          "total": 337245
         },
         {
          "group": "15000 to 24999",
          "id": 10,
          "name": "Delaware",
          "pct": 0.091,
          "region": "south",
          "total": 337245
         },
         {
          "group": "25000 to 34999",
          "id": 10,
          "name": "Delaware",
          "pct": 0.097,
          "region": "south",
          "total": 337245
         },
         {
          "group": "35000 to 49999",
          "id": 10,
          "name": "Delaware",
          "pct": 0.133,
          "region": "south",
          "total": 337245
         },
         {
          "group": "75000 to 99999",
          "id": 10,
          "name": "Delaware",
          "pct": 0.134,
          "region": "south",
          "total": 337245
         },
         {
          "group": "50000 to 74999",
          "id": 10,
          "name": "Delaware",
          "pct": 0.194,
          "region": "south",
          "total": 337245
         },
         {
          "group": "100000 to 149999",
          "id": 10,
          "name": "Delaware",
          "pct": 0.15,
          "region": "south",
          "total": 337245
         },
         {
          "group": "150000 to 199999",
          "id": 10,
          "name": "Delaware",
          "pct": 0.055,
          "region": "south",
          "total": 337245
         },
         {
          "group": "200000+",
          "id": 10,
          "name": "Delaware",
          "pct": 0.047,
          "region": "south",
          "total": 337245
         },
         {
          "group": "<10000",
          "id": 11,
          "name": "District of Columbia",
          "pct": 0.106,
          "region": "south",
          "total": 268015
         },
         {
          "group": "10000 to 14999",
          "id": 11,
          "name": "District of Columbia",
          "pct": 0.044,
          "region": "south",
          "total": 268015
         },
         {
          "group": "15000 to 24999",
          "id": 11,
          "name": "District of Columbia",
          "pct": 0.076,
          "region": "south",
          "total": 268015
         },
         {
          "group": "25000 to 34999",
          "id": 11,
          "name": "District of Columbia",
          "pct": 0.068,
          "region": "south",
          "total": 268015
         },
         {
          "group": "35000 to 49999",
          "id": 11,
          "name": "District of Columbia",
          "pct": 0.101,
          "region": "south",
          "total": 268015
         },
         {
          "group": "75000 to 99999",
          "id": 11,
          "name": "District of Columbia",
          "pct": 0.10400000000000001,
          "region": "south",
          "total": 268015
         },
         {
          "group": "50000 to 74999",
          "id": 11,
          "name": "District of Columbia",
          "pct": 0.145,
          "region": "south",
          "total": 268015
         },
         {
          "group": "100000 to 149999",
          "id": 11,
          "name": "District of Columbia",
          "pct": 0.156,
          "region": "south",
          "total": 268015
         },
         {
          "group": "150000 to 199999",
          "id": 11,
          "name": "District of Columbia",
          "pct": 0.078,
          "region": "south",
          "total": 268015
         },
         {
          "group": "200000+",
          "id": 11,
          "name": "District of Columbia",
          "pct": 0.121,
          "region": "south",
          "total": 268015
         },
         {
          "group": "<10000",
          "id": 12,
          "name": "Florida",
          "pct": 0.081,
          "region": "south",
          "total": 7168502
         },
         {
          "group": "10000 to 14999",
          "id": 12,
          "name": "Florida",
          "pct": 0.06,
          "region": "south",
          "total": 7168502
         },
         {
          "group": "15000 to 24999",
          "id": 12,
          "name": "Florida",
          "pct": 0.125,
          "region": "south",
          "total": 7168502
         },
         {
          "group": "25000 to 34999",
          "id": 12,
          "name": "Florida",
          "pct": 0.11900000000000001,
          "region": "south",
          "total": 7168502
         },
         {
          "group": "35000 to 49999",
          "id": 12,
          "name": "Florida",
          "pct": 0.151,
          "region": "south",
          "total": 7168502
         },
         {
          "group": "75000 to 99999",
          "id": 12,
          "name": "Florida",
          "pct": 0.107,
          "region": "south",
          "total": 7168502
         },
         {
          "group": "50000 to 74999",
          "id": 12,
          "name": "Florida",
          "pct": 0.181,
          "region": "south",
          "total": 7168502
         },
         {
          "group": "100000 to 149999",
          "id": 12,
          "name": "Florida",
          "pct": 0.10300000000000001,
          "region": "south",
          "total": 7168502
         },
         {
          "group": "150000 to 199999",
          "id": 12,
          "name": "Florida",
          "pct": 0.035,
          "region": "south",
          "total": 7168502
         },
         {
          "group": "200000+",
          "id": 12,
          "name": "Florida",
          "pct": 0.037,
          "region": "south",
          "total": 7168502
         },
         {
          "group": "<10000",
          "id": 13,
          "name": "Georgia",
          "pct": 0.092,
          "region": "south",
          "total": 3522934
         },
         {
          "group": "10000 to 14999",
          "id": 13,
          "name": "Georgia",
          "pct": 0.059000000000000004,
          "region": "south",
          "total": 3522934
         },
         {
          "group": "15000 to 24999",
          "id": 13,
          "name": "Georgia",
          "pct": 0.116,
          "region": "south",
          "total": 3522934
         },
         {
          "group": "25000 to 34999",
          "id": 13,
          "name": "Georgia",
          "pct": 0.109,
          "region": "south",
          "total": 3522934
         },
         {
          "group": "35000 to 49999",
          "id": 13,
          "name": "Georgia",
          "pct": 0.14100000000000001,
          "region": "south",
          "total": 3522934
         },
         {
          "group": "75000 to 99999",
          "id": 13,
          "name": "Georgia",
          "pct": 0.111,
          "region": "south",
          "total": 3522934
         },
         {
          "group": "50000 to 74999",
          "id": 13,
          "name": "Georgia",
          "pct": 0.18,
          "region": "south",
          "total": 3522934
         },
         {
          "group": "100000 to 149999",
          "id": 13,
          "name": "Georgia",
          "pct": 0.113,
          "region": "south",
          "total": 3522934
         },
         {
          "group": "150000 to 199999",
          "id": 13,
          "name": "Georgia",
          "pct": 0.041,
          "region": "south",
          "total": 3522934
         },
         {
          "group": "200000+",
          "id": 13,
          "name": "Georgia",
          "pct": 0.039,
          "region": "south",
          "total": 3522934
         },
         {
          "group": "<10000",
          "id": 15,
          "name": "Hawaii",
          "pct": 0.06,
          "region": "west",
          "total": 449296
         },
         {
          "group": "10000 to 14999",
          "id": 15,
          "name": "Hawaii",
          "pct": 0.037,
          "region": "west",
          "total": 449296
         },
         {
          "group": "15000 to 24999",
          "id": 15,
          "name": "Hawaii",
          "pct": 0.076,
          "region": "west",
          "total": 449296
         },
         {
          "group": "25000 to 34999",
          "id": 15,
          "name": "Hawaii",
          "pct": 0.077,
          "region": "west",
          "total": 449296
         },
         {
          "group": "35000 to 49999",
          "id": 15,
          "name": "Hawaii",
          "pct": 0.12,
          "region": "west",
          "total": 449296
         },
         {
          "group": "75000 to 99999",
          "id": 15,
          "name": "Hawaii",
          "pct": 0.14,
          "region": "west",
          "total": 449296
         },
         {
          "group": "50000 to 74999",
          "id": 15,
          "name": "Hawaii",
          "pct": 0.189,
          "region": "west",
          "total": 449296
         },
         {
          "group": "100000 to 149999",
          "id": 15,
          "name": "Hawaii",
          "pct": 0.17400000000000002,
          "region": "west",
          "total": 449296
         },
         {
          "group": "150000 to 199999",
          "id": 15,
          "name": "Hawaii",
          "pct": 0.069,
          "region": "west",
          "total": 449296
         },
         {
          "group": "200000+",
          "id": 15,
          "name": "Hawaii",
          "pct": 0.058,
          "region": "west",
          "total": 449296
         },
         {
          "group": "<10000",
          "id": 16,
          "name": "Idaho",
          "pct": 0.07200000000000001,
          "region": "west",
          "total": 583452
         },
         {
          "group": "10000 to 14999",
          "id": 16,
          "name": "Idaho",
          "pct": 0.057,
          "region": "west",
          "total": 583452
         },
         {
          "group": "15000 to 24999",
          "id": 16,
          "name": "Idaho",
          "pct": 0.123,
          "region": "west",
          "total": 583452
         },
         {
          "group": "25000 to 34999",
          "id": 16,
          "name": "Idaho",
          "pct": 0.126,
          "region": "west",
          "total": 583452
         },
         {
          "group": "35000 to 49999",
          "id": 16,
          "name": "Idaho",
          "pct": 0.161,
          "region": "west",
          "total": 583452
         },
         {
          "group": "75000 to 99999",
          "id": 16,
          "name": "Idaho",
          "pct": 0.116,
          "region": "west",
          "total": 583452
         },
         {
          "group": "50000 to 74999",
          "id": 16,
          "name": "Idaho",
          "pct": 0.201,
          "region": "west",
          "total": 583452
         },
         {
          "group": "100000 to 149999",
          "id": 16,
          "name": "Idaho",
          "pct": 0.096,
          "region": "west",
          "total": 583452
         },
         {
          "group": "150000 to 199999",
          "id": 16,
          "name": "Idaho",
          "pct": 0.027,
          "region": "west",
          "total": 583452
         },
         {
          "group": "200000+",
          "id": 16,
          "name": "Idaho",
          "pct": 0.022,
          "region": "west",
          "total": 583452
         },
         {
          "group": "<10000",
          "id": 17,
          "name": "Illinois",
          "pct": 0.074,
          "region": "midwest",
          "total": 4763457
         },
         {
          "group": "10000 to 14999",
          "id": 17,
          "name": "Illinois",
          "pct": 0.048,
          "region": "midwest",
          "total": 4763457
         },
         {
          "group": "15000 to 24999",
          "id": 17,
          "name": "Illinois",
          "pct": 0.10200000000000001,
          "region": "midwest",
          "total": 4763457
         },
         {
          "group": "25000 to 34999",
          "id": 17,
          "name": "Illinois",
          "pct": 0.097,
          "region": "midwest",
          "total": 4763457
         },
         {
          "group": "35000 to 49999",
          "id": 17,
          "name": "Illinois",
          "pct": 0.13,
          "region": "midwest",
          "total": 4763457
         },
         {
          "group": "75000 to 99999",
          "id": 17,
          "name": "Illinois",
          "pct": 0.126,
          "region": "midwest",
          "total": 4763457
         },
         {
          "group": "50000 to 74999",
          "id": 17,
          "name": "Illinois",
          "pct": 0.18,
          "region": "midwest",
          "total": 4763457
         },
         {
          "group": "100000 to 149999",
          "id": 17,
          "name": "Illinois",
          "pct": 0.137,
          "region": "midwest",
          "total": 4763457
         },
         {
          "group": "150000 to 199999",
          "id": 17,
          "name": "Illinois",
          "pct": 0.052000000000000005,
          "region": "midwest",
          "total": 4763457
         },
         {
          "group": "200000+",
          "id": 17,
          "name": "Illinois",
          "pct": 0.053,
          "region": "midwest",
          "total": 4763457
         },
         {
          "group": "<10000",
          "id": 18,
          "name": "Indiana",
          "pct": 0.077,
          "region": "midwest",
          "total": 2482558
         },
         {
          "group": "10000 to 14999",
          "id": 18,
          "name": "Indiana",
          "pct": 0.057,
          "region": "midwest",
          "total": 2482558
         },
         {
          "group": "15000 to 24999",
          "id": 18,
          "name": "Indiana",
          "pct": 0.117,
          "region": "midwest",
          "total": 2482558
         },
         {
          "group": "25000 to 34999",
          "id": 18,
          "name": "Indiana",
          "pct": 0.115,
          "region": "midwest",
          "total": 2482558
         },
         {
          "group": "35000 to 49999",
          "id": 18,
          "name": "Indiana",
          "pct": 0.154,
          "region": "midwest",
          "total": 2482558
         },
         {
          "group": "75000 to 99999",
          "id": 18,
          "name": "Indiana",
          "pct": 0.123,
          "region": "midwest",
          "total": 2482558
         },
         {
          "group": "50000 to 74999",
          "id": 18,
          "name": "Indiana",
          "pct": 0.193,
          "region": "midwest",
          "total": 2482558
         },
         {
          "group": "100000 to 149999",
          "id": 18,
          "name": "Indiana",
          "pct": 0.109,
          "region": "midwest",
          "total": 2482558
         },
         {
          "group": "150000 to 199999",
          "id": 18,
          "name": "Indiana",
          "pct": 0.03,
          "region": "midwest",
          "total": 2482558
         },
         {
          "group": "200000+",
          "id": 18,
          "name": "Indiana",
          "pct": 0.026000000000000002,
          "region": "midwest",
          "total": 2482558
         },
         {
          "group": "<10000",
          "id": 19,
          "name": "Iowa",
          "pct": 0.065,
          "region": "midwest",
          "total": 1227201
         },
         {
          "group": "10000 to 14999",
          "id": 19,
          "name": "Iowa",
          "pct": 0.054,
          "region": "midwest",
          "total": 1227201
         },
         {
          "group": "15000 to 24999",
          "id": 19,
          "name": "Iowa",
          "pct": 0.107,
          "region": "midwest",
          "total": 1227201
         },
         {
          "group": "25000 to 34999",
          "id": 19,
          "name": "Iowa",
          "pct": 0.11,
          "region": "midwest",
          "total": 1227201
         },
         {
          "group": "35000 to 49999",
          "id": 19,
          "name": "Iowa",
          "pct": 0.148,
          "region": "midwest",
          "total": 1227201
         },
         {
          "group": "75000 to 99999",
          "id": 19,
          "name": "Iowa",
          "pct": 0.133,
          "region": "midwest",
          "total": 1227201
         },
         {
          "group": "50000 to 74999",
          "id": 19,
          "name": "Iowa",
          "pct": 0.201,
          "region": "midwest",
          "total": 1227201
         },
         {
          "group": "100000 to 149999",
          "id": 19,
          "name": "Iowa",
          "pct": 0.12,
          "region": "midwest",
          "total": 1227201
         },
         {
          "group": "150000 to 199999",
          "id": 19,
          "name": "Iowa",
          "pct": 0.033,
          "region": "midwest",
          "total": 1227201
         },
         {
          "group": "200000+",
          "id": 19,
          "name": "Iowa",
          "pct": 0.029,
          "region": "midwest",
          "total": 1227201
         },
         {
          "group": "<10000",
          "id": 20,
          "name": "Kansas",
          "pct": 0.066,
          "region": "midwest",
          "total": 1109747
         },
         {
          "group": "10000 to 14999",
          "id": 20,
          "name": "Kansas",
          "pct": 0.052000000000000005,
          "region": "midwest",
          "total": 1109747
         },
         {
          "group": "15000 to 24999",
          "id": 20,
          "name": "Kansas",
          "pct": 0.11,
          "region": "midwest",
          "total": 1109747
         },
         {
          "group": "25000 to 34999",
          "id": 20,
          "name": "Kansas",
          "pct": 0.113,
          "region": "midwest",
          "total": 1109747
         },
         {
          "group": "35000 to 49999",
          "id": 20,
          "name": "Kansas",
          "pct": 0.151,
          "region": "midwest",
          "total": 1109747
         },
         {
          "group": "75000 to 99999",
          "id": 20,
          "name": "Kansas",
          "pct": 0.123,
          "region": "midwest",
          "total": 1109747
         },
         {
          "group": "50000 to 74999",
          "id": 20,
          "name": "Kansas",
          "pct": 0.193,
          "region": "midwest",
          "total": 1109747
         },
         {
          "group": "100000 to 149999",
          "id": 20,
          "name": "Kansas",
          "pct": 0.121,
          "region": "midwest",
          "total": 1109747
         },
         {
          "group": "150000 to 199999",
          "id": 20,
          "name": "Kansas",
          "pct": 0.038,
          "region": "midwest",
          "total": 1109747
         },
         {
          "group": "200000+",
          "id": 20,
          "name": "Kansas",
          "pct": 0.033,
          "region": "midwest",
          "total": 1109747
         },
         {
          "group": "<10000",
          "id": 21,
          "name": "Kentucky",
          "pct": 0.10300000000000001,
          "region": "south",
          "total": 1693399
         },
         {
          "group": "10000 to 14999",
          "id": 21,
          "name": "Kentucky",
          "pct": 0.07200000000000001,
          "region": "south",
          "total": 1693399
         },
         {
          "group": "15000 to 24999",
          "id": 21,
          "name": "Kentucky",
          "pct": 0.13,
          "region": "south",
          "total": 1693399
         },
         {
          "group": "25000 to 34999",
          "id": 21,
          "name": "Kentucky",
          "pct": 0.115,
          "region": "south",
          "total": 1693399
         },
         {
          "group": "35000 to 49999",
          "id": 21,
          "name": "Kentucky",
          "pct": 0.146,
          "region": "south",
          "total": 1693399
         },
         {
          "group": "75000 to 99999",
          "id": 21,
          "name": "Kentucky",
          "pct": 0.107,
          "region": "south",
          "total": 1693399
         },
         {
          "group": "50000 to 74999",
          "id": 21,
          "name": "Kentucky",
          "pct": 0.177,
          "region": "south",
          "total": 1693399
         },
         {
          "group": "100000 to 149999",
          "id": 21,
          "name": "Kentucky",
          "pct": 0.098,
          "region": "south",
          "total": 1693399
         },
         {
          "group": "150000 to 199999",
          "id": 21,
          "name": "Kentucky",
          "pct": 0.026000000000000002,
          "region": "south",
          "total": 1693399
         },
         {
          "group": "200000+",
          "id": 21,
          "name": "Kentucky",
          "pct": 0.025,
          "region": "south",
          "total": 1693399
         },
         {
          "group": "<10000",
          "id": 22,
          "name": "Louisiana",
          "pct": 0.10400000000000001,
          "region": "south",
          "total": 1715997
         },
         {
          "group": "10000 to 14999",
          "id": 22,
          "name": "Louisiana",
          "pct": 0.073,
          "region": "south",
          "total": 1715997
         },
         {
          "group": "15000 to 24999",
          "id": 22,
          "name": "Louisiana",
          "pct": 0.129,
          "region": "south",
          "total": 1715997
         },
         {
          "group": "25000 to 34999",
          "id": 22,
          "name": "Louisiana",
          "pct": 0.11,
          "region": "south",
          "total": 1715997
         },
         {
          "group": "35000 to 49999",
          "id": 22,
          "name": "Louisiana",
          "pct": 0.133,
          "region": "south",
          "total": 1715997
         },
         {
          "group": "75000 to 99999",
          "id": 22,
          "name": "Louisiana",
          "pct": 0.109,
          "region": "south",
          "total": 1715997
         },
         {
          "group": "50000 to 74999",
          "id": 22,
          "name": "Louisiana",
          "pct": 0.164,
          "region": "south",
          "total": 1715997
         },
         {
          "group": "100000 to 149999",
          "id": 22,
          "name": "Louisiana",
          "pct": 0.11,
          "region": "south",
          "total": 1715997
         },
         {
          "group": "150000 to 199999",
          "id": 22,
          "name": "Louisiana",
          "pct": 0.036000000000000004,
          "region": "south",
          "total": 1715997
         },
         {
          "group": "200000+",
          "id": 22,
          "name": "Louisiana",
          "pct": 0.032,
          "region": "south",
          "total": 1715997
         },
         {
          "group": "<10000",
          "id": 23,
          "name": "Maine",
          "pct": 0.07200000000000001,
          "region": "northeast",
          "total": 552589
         },
         {
          "group": "10000 to 14999",
          "id": 23,
          "name": "Maine",
          "pct": 0.066,
          "region": "northeast",
          "total": 552589
         },
         {
          "group": "15000 to 24999",
          "id": 23,
          "name": "Maine",
          "pct": 0.122,
          "region": "northeast",
          "total": 552589
         },
         {
          "group": "25000 to 34999",
          "id": 23,
          "name": "Maine",
          "pct": 0.11900000000000001,
          "region": "northeast",
          "total": 552589
         },
         {
          "group": "35000 to 49999",
          "id": 23,
          "name": "Maine",
          "pct": 0.14400000000000002,
          "region": "northeast",
          "total": 552589
         },
         {
          "group": "75000 to 99999",
          "id": 23,
          "name": "Maine",
          "pct": 0.123,
          "region": "northeast",
          "total": 552589
         },
         {
          "group": "50000 to 74999",
          "id": 23,
          "name": "Maine",
          "pct": 0.19,
          "region": "northeast",
          "total": 552589
         },
         {
          "group": "100000 to 149999",
          "id": 23,
          "name": "Maine",
          "pct": 0.106,
          "region": "northeast",
          "total": 552589
         },
         {
          "group": "150000 to 199999",
          "id": 23,
          "name": "Maine",
          "pct": 0.03,
          "region": "northeast",
          "total": 552589
         },
         {
          "group": "200000+",
          "id": 23,
          "name": "Maine",
          "pct": 0.028,
          "region": "northeast",
          "total": 552589
         },
         {
          "group": "<10000",
          "id": 24,
          "name": "Maryland",
          "pct": 0.054,
          "region": "south",
          "total": 2149424
         },
         {
          "group": "10000 to 14999",
          "id": 24,
          "name": "Maryland",
          "pct": 0.035,
          "region": "south",
          "total": 2149424
         },
         {
          "group": "15000 to 24999",
          "id": 24,
          "name": "Maryland",
          "pct": 0.07200000000000001,
          "region": "south",
          "total": 2149424
         },
         {
          "group": "25000 to 34999",
          "id": 24,
          "name": "Maryland",
          "pct": 0.073,
          "region": "south",
          "total": 2149424
         },
         {
          "group": "35000 to 49999",
          "id": 24,
          "name": "Maryland",
          "pct": 0.108,
          "region": "south",
          "total": 2149424
         },
         {
          "group": "75000 to 99999",
          "id": 24,
          "name": "Maryland",
          "pct": 0.133,
          "region": "south",
          "total": 2149424
         },
         {
          "group": "50000 to 74999",
          "id": 24,
          "name": "Maryland",
          "pct": 0.17400000000000002,
          "region": "south",
          "total": 2149424
         },
         {
          "group": "100000 to 149999",
          "id": 24,
          "name": "Maryland",
          "pct": 0.18,
          "region": "south",
          "total": 2149424
         },
         {
          "group": "150000 to 199999",
          "id": 24,
          "name": "Maryland",
          "pct": 0.085,
          "region": "south",
          "total": 2149424
         },
         {
          "group": "200000+",
          "id": 24,
          "name": "Maryland",
          "pct": 0.08600000000000001,
          "region": "south",
          "total": 2149424
         },
         {
          "group": "<10000",
          "id": 25,
          "name": "Massachusetts",
          "pct": 0.065,
          "region": "northeast",
          "total": 2528592
         },
         {
          "group": "10000 to 14999",
          "id": 25,
          "name": "Massachusetts",
          "pct": 0.052000000000000005,
          "region": "northeast",
          "total": 2528592
         },
         {
          "group": "15000 to 24999",
          "id": 25,
          "name": "Massachusetts",
          "pct": 0.089,
          "region": "northeast",
          "total": 2528592
         },
         {
          "group": "25000 to 34999",
          "id": 25,
          "name": "Massachusetts",
          "pct": 0.079,
          "region": "northeast",
          "total": 2528592
         },
         {
          "group": "35000 to 49999",
          "id": 25,
          "name": "Massachusetts",
          "pct": 0.108,
          "region": "northeast",
          "total": 2528592
         },
         {
          "group": "75000 to 99999",
          "id": 25,
          "name": "Massachusetts",
          "pct": 0.125,
          "region": "northeast",
          "total": 2528592
         },
         {
          "group": "50000 to 74999",
          "id": 25,
          "name": "Massachusetts",
          "pct": 0.161,
          "region": "northeast",
          "total": 2528592
         },
         {
          "group": "100000 to 149999",
          "id": 25,
          "name": "Massachusetts",
          "pct": 0.164,
          "region": "northeast",
          "total": 2528592
         },
         {
          "group": "150000 to 199999",
          "id": 25,
          "name": "Massachusetts",
          "pct": 0.077,
          "region": "northeast",
          "total": 2528592
         },
         {
          "group": "200000+",
          "id": 25,
          "name": "Massachusetts",
          "pct": 0.08,
          "region": "northeast",
          "total": 2528592
         },
         {
          "group": "<10000",
          "id": 26,
          "name": "Michigan",
          "pct": 0.084,
          "region": "midwest",
          "total": 3815532
         },
         {
          "group": "10000 to 14999",
          "id": 26,
          "name": "Michigan",
          "pct": 0.058,
          "region": "midwest",
          "total": 3815532
         },
         {
          "group": "15000 to 24999",
          "id": 26,
          "name": "Michigan",
          "pct": 0.11800000000000001,
          "region": "midwest",
          "total": 3815532
         },
         {
          "group": "25000 to 34999",
          "id": 26,
          "name": "Michigan",
          "pct": 0.112,
          "region": "midwest",
          "total": 3815532
         },
         {
          "group": "35000 to 49999",
          "id": 26,
          "name": "Michigan",
          "pct": 0.146,
          "region": "midwest",
          "total": 3815532
         },
         {
          "group": "75000 to 99999",
          "id": 26,
          "name": "Michigan",
          "pct": 0.117,
          "region": "midwest",
          "total": 3815532
         },
         {
          "group": "50000 to 74999",
          "id": 26,
          "name": "Michigan",
          "pct": 0.184,
          "region": "midwest",
          "total": 3815532
         },
         {
          "group": "100000 to 149999",
          "id": 26,
          "name": "Michigan",
          "pct": 0.113,
          "region": "midwest",
          "total": 3815532
         },
         {
          "group": "150000 to 199999",
          "id": 26,
          "name": "Michigan",
          "pct": 0.037,
          "region": "midwest",
          "total": 3815532
         },
         {
          "group": "200000+",
          "id": 26,
          "name": "Michigan",
          "pct": 0.031,
          "region": "midwest",
          "total": 3815532
         },
         {
          "group": "<10000",
          "id": 27,
          "name": "Minnesota",
          "pct": 0.058,
          "region": "midwest",
          "total": 2109924
         },
         {
          "group": "10000 to 14999",
          "id": 27,
          "name": "Minnesota",
          "pct": 0.045,
          "region": "midwest",
          "total": 2109924
         },
         {
          "group": "15000 to 24999",
          "id": 27,
          "name": "Minnesota",
          "pct": 0.093,
          "region": "midwest",
          "total": 2109924
         },
         {
          "group": "25000 to 34999",
          "id": 27,
          "name": "Minnesota",
          "pct": 0.092,
          "region": "midwest",
          "total": 2109924
         },
         {
          "group": "35000 to 49999",
          "id": 27,
          "name": "Minnesota",
          "pct": 0.133,
          "region": "midwest",
          "total": 2109924
         },
         {
          "group": "75000 to 99999",
          "id": 27,
          "name": "Minnesota",
          "pct": 0.14,
          "region": "midwest",
          "total": 2109924
         },
         {
          "group": "50000 to 74999",
          "id": 27,
          "name": "Minnesota",
          "pct": 0.192,
          "region": "midwest",
          "total": 2109924
         },
         {
          "group": "100000 to 149999",
          "id": 27,
          "name": "Minnesota",
          "pct": 0.149,
          "region": "midwest",
          "total": 2109924
         },
         {
          "group": "150000 to 199999",
          "id": 27,
          "name": "Minnesota",
          "pct": 0.052000000000000005,
          "region": "midwest",
          "total": 2109924
         },
         {
          "group": "200000+",
          "id": 27,
          "name": "Minnesota",
          "pct": 0.047,
          "region": "midwest",
          "total": 2109924
         },
         {
          "group": "<10000",
          "id": 28,
          "name": "Mississippi",
          "pct": 0.11800000000000001,
          "region": "south",
          "total": 1086898
         },
         {
          "group": "10000 to 14999",
          "id": 28,
          "name": "Mississippi",
          "pct": 0.083,
          "region": "south",
          "total": 1086898
         },
         {
          "group": "15000 to 24999",
          "id": 28,
          "name": "Mississippi",
          "pct": 0.14300000000000002,
          "region": "south",
          "total": 1086898
         },
         {
          "group": "25000 to 34999",
          "id": 28,
          "name": "Mississippi",
          "pct": 0.121,
          "region": "south",
          "total": 1086898
         },
         {
          "group": "35000 to 49999",
          "id": 28,
          "name": "Mississippi",
          "pct": 0.145,
          "region": "south",
          "total": 1086898
         },
         {
          "group": "75000 to 99999",
          "id": 28,
          "name": "Mississippi",
          "pct": 0.094,
          "region": "south",
          "total": 1086898
         },
         {
          "group": "50000 to 74999",
          "id": 28,
          "name": "Mississippi",
          "pct": 0.171,
          "region": "south",
          "total": 1086898
         },
         {
          "group": "100000 to 149999",
          "id": 28,
          "name": "Mississippi",
          "pct": 0.081,
          "region": "south",
          "total": 1086898
         },
         {
          "group": "150000 to 199999",
          "id": 28,
          "name": "Mississippi",
          "pct": 0.024,
          "region": "south",
          "total": 1086898
         },
         {
          "group": "200000+",
          "id": 28,
          "name": "Mississippi",
          "pct": 0.02,
          "region": "south",
          "total": 1086898
         },
         {
          "group": "<10000",
          "id": 29,
          "name": "Missouri",
          "pct": 0.081,
          "region": "midwest",
          "total": 2353778
         },
         {
          "group": "10000 to 14999",
          "id": 29,
          "name": "Missouri",
          "pct": 0.061,
          "region": "midwest",
          "total": 2353778
         },
         {
          "group": "15000 to 24999",
          "id": 29,
          "name": "Missouri",
          "pct": 0.121,
          "region": "midwest",
          "total": 2353778
         },
         {
          "group": "25000 to 34999",
          "id": 29,
          "name": "Missouri",
          "pct": 0.115,
          "region": "midwest",
          "total": 2353778
         },
         {
          "group": "35000 to 49999",
          "id": 29,
          "name": "Missouri",
          "pct": 0.15,
          "region": "midwest",
          "total": 2353778
         },
         {
          "group": "75000 to 99999",
          "id": 29,
          "name": "Missouri",
          "pct": 0.115,
          "region": "midwest",
          "total": 2353778
         },
         {
          "group": "50000 to 74999",
          "id": 29,
          "name": "Missouri",
          "pct": 0.188,
          "region": "midwest",
          "total": 2353778
         },
         {
          "group": "100000 to 149999",
          "id": 29,
          "name": "Missouri",
          "pct": 0.105,
          "region": "midwest",
          "total": 2353778
         },
         {
          "group": "150000 to 199999",
          "id": 29,
          "name": "Missouri",
          "pct": 0.035,
          "region": "midwest",
          "total": 2353778
         },
         {
          "group": "200000+",
          "id": 29,
          "name": "Missouri",
          "pct": 0.029,
          "region": "midwest",
          "total": 2353778
         },
         {
          "group": "<10000",
          "id": 30,
          "name": "Montana",
          "pct": 0.073,
          "region": "west",
          "total": 405504
         },
         {
          "group": "10000 to 14999",
          "id": 30,
          "name": "Montana",
          "pct": 0.067,
          "region": "west",
          "total": 405504
         },
         {
          "group": "15000 to 24999",
          "id": 30,
          "name": "Montana",
          "pct": 0.128,
          "region": "west",
          "total": 405504
         },
         {
          "group": "25000 to 34999",
          "id": 30,
          "name": "Montana",
          "pct": 0.11800000000000001,
          "region": "west",
          "total": 405504
         },
         {
          "group": "35000 to 49999",
          "id": 30,
          "name": "Montana",
          "pct": 0.149,
          "region": "west",
          "total": 405504
         },
         {
          "group": "75000 to 99999",
          "id": 30,
          "name": "Montana",
          "pct": 0.114,
          "region": "west",
          "total": 405504
         },
         {
          "group": "50000 to 74999",
          "id": 30,
          "name": "Montana",
          "pct": 0.194,
          "region": "west",
          "total": 405504
         },
         {
          "group": "100000 to 149999",
          "id": 30,
          "name": "Montana",
          "pct": 0.10300000000000001,
          "region": "west",
          "total": 405504
         },
         {
          "group": "150000 to 199999",
          "id": 30,
          "name": "Montana",
          "pct": 0.026000000000000002,
          "region": "west",
          "total": 405504
         },
         {
          "group": "200000+",
          "id": 30,
          "name": "Montana",
          "pct": 0.026000000000000002,
          "region": "west",
          "total": 405504
         },
         {
          "group": "<10000",
          "id": 31,
          "name": "Nebraska",
          "pct": 0.063,
          "region": "midwest",
          "total": 729572
         },
         {
          "group": "10000 to 14999",
          "id": 31,
          "name": "Nebraska",
          "pct": 0.054,
          "region": "midwest",
          "total": 729572
         },
         {
          "group": "15000 to 24999",
          "id": 31,
          "name": "Nebraska",
          "pct": 0.11,
          "region": "midwest",
          "total": 729572
         },
         {
          "group": "25000 to 34999",
          "id": 31,
          "name": "Nebraska",
          "pct": 0.11,
          "region": "midwest",
          "total": 729572
         },
         {
          "group": "35000 to 49999",
          "id": 31,
          "name": "Nebraska",
          "pct": 0.149,
          "region": "midwest",
          "total": 729572
         },
         {
          "group": "75000 to 99999",
          "id": 31,
          "name": "Nebraska",
          "pct": 0.129,
          "region": "midwest",
          "total": 729572
         },
         {
          "group": "50000 to 74999",
          "id": 31,
          "name": "Nebraska",
          "pct": 0.2,
          "region": "midwest",
          "total": 729572
         },
         {
          "group": "100000 to 149999",
          "id": 31,
          "name": "Nebraska",
          "pct": 0.11900000000000001,
          "region": "midwest",
          "total": 729572
         },
         {
          "group": "150000 to 199999",
          "id": 31,
          "name": "Nebraska",
          "pct": 0.035,
          "region": "midwest",
          "total": 729572
         },
         {
          "group": "200000+",
          "id": 31,
          "name": "Nebraska",
          "pct": 0.032,
          "region": "midwest",
          "total": 729572
         },
         {
          "group": "<10000",
          "id": 32,
          "name": "Nevada",
          "pct": 0.068,
          "region": "west",
          "total": 995980
         },
         {
          "group": "10000 to 14999",
          "id": 32,
          "name": "Nevada",
          "pct": 0.049,
          "region": "west",
          "total": 995980
         },
         {
          "group": "15000 to 24999",
          "id": 32,
          "name": "Nevada",
          "pct": 0.109,
          "region": "west",
          "total": 995980
         },
         {
          "group": "25000 to 34999",
          "id": 32,
          "name": "Nevada",
          "pct": 0.112,
          "region": "west",
          "total": 995980
         },
         {
          "group": "35000 to 49999",
          "id": 32,
          "name": "Nevada",
          "pct": 0.153,
          "region": "west",
          "total": 995980
         },
         {
          "group": "75000 to 99999",
          "id": 32,
          "name": "Nevada",
          "pct": 0.121,
          "region": "west",
          "total": 995980
         },
         {
          "group": "50000 to 74999",
          "id": 32,
          "name": "Nevada",
          "pct": 0.197,
          "region": "west",
          "total": 995980
         },
         {
          "group": "100000 to 149999",
          "id": 32,
          "name": "Nevada",
          "pct": 0.11900000000000001,
          "region": "west",
          "total": 995980
         },
         {
          "group": "150000 to 199999",
          "id": 32,
          "name": "Nevada",
          "pct": 0.039,
          "region": "west",
          "total": 995980
         },
         {
          "group": "200000+",
          "id": 32,
          "name": "Nevada",
          "pct": 0.032,
          "region": "west",
          "total": 995980
         },
         {
          "group": "<10000",
          "id": 33,
          "name": "New Hampshire",
          "pct": 0.045,
          "region": "northeast",
          "total": 518088
         },
         {
          "group": "10000 to 14999",
          "id": 33,
          "name": "New Hampshire",
          "pct": 0.042,
          "region": "northeast",
          "total": 518088
         },
         {
          "group": "15000 to 24999",
          "id": 33,
          "name": "New Hampshire",
          "pct": 0.085,
          "region": "northeast",
          "total": 518088
         },
         {
          "group": "25000 to 34999",
          "id": 33,
          "name": "New Hampshire",
          "pct": 0.088,
          "region": "northeast",
          "total": 518088
         },
         {
          "group": "35000 to 49999",
          "id": 33,
          "name": "New Hampshire",
          "pct": 0.126,
          "region": "northeast",
          "total": 518088
         },
         {
          "group": "75000 to 99999",
          "id": 33,
          "name": "New Hampshire",
          "pct": 0.14300000000000002,
          "region": "northeast",
          "total": 518088
         },
         {
          "group": "50000 to 74999",
          "id": 33,
          "name": "New Hampshire",
          "pct": 0.185,
          "region": "northeast",
          "total": 518088
         },
         {
          "group": "100000 to 149999",
          "id": 33,
          "name": "New Hampshire",
          "pct": 0.167,
          "region": "northeast",
          "total": 518088
         },
         {
          "group": "150000 to 199999",
          "id": 33,
          "name": "New Hampshire",
          "pct": 0.064,
          "region": "northeast",
          "total": 518088
         },
         {
          "group": "200000+",
          "id": 33,
          "name": "New Hampshire",
          "pct": 0.054,
          "region": "northeast",
          "total": 518088
         },
         {
          "group": "<10000",
          "id": 34,
          "name": "New Jersey",
          "pct": 0.056,
          "region": "northeast",
          "total": 3181152
         },
         {
          "group": "10000 to 14999",
          "id": 34,
          "name": "New Jersey",
          "pct": 0.04,
          "region": "northeast",
          "total": 3181152
         },
         {
          "group": "15000 to 24999",
          "id": 34,
          "name": "New Jersey",
          "pct": 0.083,
          "region": "northeast",
          "total": 3181152
         },
         {
          "group": "25000 to 34999",
          "id": 34,
          "name": "New Jersey",
          "pct": 0.079,
          "region": "northeast",
          "total": 3181152
         },
         {
          "group": "35000 to 49999",
          "id": 34,
          "name": "New Jersey",
          "pct": 0.108,
          "region": "northeast",
          "total": 3181152
         },
         {
          "group": "75000 to 99999",
          "id": 34,
          "name": "New Jersey",
          "pct": 0.127,
          "region": "northeast",
          "total": 3181152
         },
         {
          "group": "50000 to 74999",
          "id": 34,
          "name": "New Jersey",
          "pct": 0.162,
          "region": "northeast",
          "total": 3181152
         },
         {
          "group": "100000 to 149999",
          "id": 34,
          "name": "New Jersey",
          "pct": 0.169,
          "region": "northeast",
          "total": 3181152
         },
         {
          "group": "150000 to 199999",
          "id": 34,
          "name": "New Jersey",
          "pct": 0.083,
          "region": "northeast",
          "total": 3181152
         },
         {
          "group": "200000+",
          "id": 34,
          "name": "New Jersey",
          "pct": 0.092,
          "region": "northeast",
          "total": 3181152
         },
         {
          "group": "<10000",
          "id": 35,
          "name": "New Mexico",
          "pct": 0.1,
          "region": "west",
          "total": 760251
         },
         {
          "group": "10000 to 14999",
          "id": 35,
          "name": "New Mexico",
          "pct": 0.068,
          "region": "west",
          "total": 760251
         },
         {
          "group": "15000 to 24999",
          "id": 35,
          "name": "New Mexico",
          "pct": 0.13,
          "region": "west",
          "total": 760251
         },
         {
          "group": "25000 to 34999",
          "id": 35,
          "name": "New Mexico",
          "pct": 0.114,
          "region": "west",
          "total": 760251
         },
         {
          "group": "35000 to 49999",
          "id": 35,
          "name": "New Mexico",
          "pct": 0.14200000000000002,
          "region": "west",
          "total": 760251
         },
         {
          "group": "75000 to 99999",
          "id": 35,
          "name": "New Mexico",
          "pct": 0.11,
          "region": "west",
          "total": 760251
         },
         {
          "group": "50000 to 74999",
          "id": 35,
          "name": "New Mexico",
          "pct": 0.168,
          "region": "west",
          "total": 760251
         },
         {
          "group": "100000 to 149999",
          "id": 35,
          "name": "New Mexico",
          "pct": 0.10300000000000001,
          "region": "west",
          "total": 760251
         },
         {
          "group": "150000 to 199999",
          "id": 35,
          "name": "New Mexico",
          "pct": 0.037,
          "region": "west",
          "total": 760251
         },
         {
          "group": "200000+",
          "id": 35,
          "name": "New Mexico",
          "pct": 0.028,
          "region": "west",
          "total": 760251
         },
         {
          "group": "<10000",
          "id": 36,
          "name": "New York",
          "pct": 0.081,
          "region": "northeast",
          "total": 7214163
         },
         {
          "group": "10000 to 14999",
          "id": 36,
          "name": "New York",
          "pct": 0.053,
          "region": "northeast",
          "total": 7214163
         },
         {
          "group": "15000 to 24999",
          "id": 36,
          "name": "New York",
          "pct": 0.101,
          "region": "northeast",
          "total": 7214163
         },
         {
          "group": "25000 to 34999",
          "id": 36,
          "name": "New York",
          "pct": 0.09,
          "region": "northeast",
          "total": 7214163
         },
         {
          "group": "35000 to 49999",
          "id": 36,
          "name": "New York",
          "pct": 0.11900000000000001,
          "region": "northeast",
          "total": 7214163
         },
         {
          "group": "75000 to 99999",
          "id": 36,
          "name": "New York",
          "pct": 0.11800000000000001,
          "region": "northeast",
          "total": 7214163
         },
         {
          "group": "50000 to 74999",
          "id": 36,
          "name": "New York",
          "pct": 0.166,
          "region": "northeast",
          "total": 7214163
         },
         {
          "group": "100000 to 149999",
          "id": 36,
          "name": "New York",
          "pct": 0.14,
          "region": "northeast",
          "total": 7214163
         },
         {
          "group": "150000 to 199999",
          "id": 36,
          "name": "New York",
          "pct": 0.061,
          "region": "northeast",
          "total": 7214163
         },
         {
          "group": "200000+",
          "id": 36,
          "name": "New York",
          "pct": 0.07,
          "region": "northeast",
          "total": 7214163
         },
         {
          "group": "<10000",
          "id": 37,
          "name": "North Carolina",
          "pct": 0.085,
          "region": "south",
          "total": 3721358
         },
         {
          "group": "10000 to 14999",
          "id": 37,
          "name": "North Carolina",
          "pct": 0.064,
          "region": "south",
          "total": 3721358
         },
         {
          "group": "15000 to 24999",
          "id": 37,
          "name": "North Carolina",
          "pct": 0.122,
          "region": "south",
          "total": 3721358
         },
         {
          "group": "25000 to 34999",
          "id": 37,
          "name": "North Carolina",
          "pct": 0.11900000000000001,
          "region": "south",
          "total": 3721358
         },
         {
          "group": "35000 to 49999",
          "id": 37,
          "name": "North Carolina",
          "pct": 0.149,
          "region": "south",
          "total": 3721358
         },
         {
          "group": "75000 to 99999",
          "id": 37,
          "name": "North Carolina",
          "pct": 0.11,
          "region": "south",
          "total": 3721358
         },
         {
          "group": "50000 to 74999",
          "id": 37,
          "name": "North Carolina",
          "pct": 0.18,
          "region": "south",
          "total": 3721358
         },
         {
          "group": "100000 to 149999",
          "id": 37,
          "name": "North Carolina",
          "pct": 0.10300000000000001,
          "region": "south",
          "total": 3721358
         },
         {
          "group": "150000 to 199999",
          "id": 37,
          "name": "North Carolina",
          "pct": 0.035,
          "region": "south",
          "total": 3721358
         },
         {
          "group": "200000+",
          "id": 37,
          "name": "North Carolina",
          "pct": 0.033,
          "region": "south",
          "total": 3721358
         },
         {
          "group": "<10000",
          "id": 38,
          "name": "North Dakota",
          "pct": 0.068,
          "region": "midwest",
          "total": 291468
         },
         {
          "group": "10000 to 14999",
          "id": 38,
          "name": "North Dakota",
          "pct": 0.048,
          "region": "midwest",
          "total": 291468
         },
         {
          "group": "15000 to 24999",
          "id": 38,
          "name": "North Dakota",
          "pct": 0.1,
          "region": "midwest",
          "total": 291468
         },
         {
          "group": "25000 to 34999",
          "id": 38,
          "name": "North Dakota",
          "pct": 0.10400000000000001,
          "region": "midwest",
          "total": 291468
         },
         {
          "group": "35000 to 49999",
          "id": 38,
          "name": "North Dakota",
          "pct": 0.14100000000000001,
          "region": "midwest",
          "total": 291468
         },
         {
          "group": "75000 to 99999",
          "id": 38,
          "name": "North Dakota",
          "pct": 0.139,
          "region": "midwest",
          "total": 291468
         },
         {
          "group": "50000 to 74999",
          "id": 38,
          "name": "North Dakota",
          "pct": 0.187,
          "region": "midwest",
          "total": 291468
         },
         {
          "group": "100000 to 149999",
          "id": 38,
          "name": "North Dakota",
          "pct": 0.134,
          "region": "midwest",
          "total": 291468
         },
         {
          "group": "150000 to 199999",
          "id": 38,
          "name": "North Dakota",
          "pct": 0.038,
          "region": "midwest",
          "total": 291468
         },
         {
          "group": "200000+",
          "id": 38,
          "name": "North Dakota",
          "pct": 0.041,
          "region": "midwest",
          "total": 291468
         },
         {
          "group": "<10000",
          "id": 39,
          "name": "Ohio",
          "pct": 0.084,
          "region": "midwest",
          "total": 4551497
         },
         {
          "group": "10000 to 14999",
          "id": 39,
          "name": "Ohio",
          "pct": 0.059000000000000004,
          "region": "midwest",
          "total": 4551497
         },
         {
          "group": "15000 to 24999",
          "id": 39,
          "name": "Ohio",
          "pct": 0.11900000000000001,
          "region": "midwest",
          "total": 4551497
         },
         {
          "group": "25000 to 34999",
          "id": 39,
          "name": "Ohio",
          "pct": 0.112,
          "region": "midwest",
          "total": 4551497
         },
         {
          "group": "35000 to 49999",
          "id": 39,
          "name": "Ohio",
          "pct": 0.145,
          "region": "midwest",
          "total": 4551497
         },
         {
          "group": "75000 to 99999",
          "id": 39,
          "name": "Ohio",
          "pct": 0.117,
          "region": "midwest",
          "total": 4551497
         },
         {
          "group": "50000 to 74999",
          "id": 39,
          "name": "Ohio",
          "pct": 0.186,
          "region": "midwest",
          "total": 4551497
         },
         {
          "group": "100000 to 149999",
          "id": 39,
          "name": "Ohio",
          "pct": 0.111,
          "region": "midwest",
          "total": 4551497
         },
         {
          "group": "150000 to 199999",
          "id": 39,
          "name": "Ohio",
          "pct": 0.036000000000000004,
          "region": "midwest",
          "total": 4551497
         },
         {
          "group": "200000+",
          "id": 39,
          "name": "Ohio",
          "pct": 0.031,
          "region": "midwest",
          "total": 4551497
         },
         {
          "group": "<10000",
          "id": 40,
          "name": "Oklahoma",
          "pct": 0.083,
          "region": "south",
          "total": 1445059
         },
         {
          "group": "10000 to 14999",
          "id": 40,
          "name": "Oklahoma",
          "pct": 0.065,
          "region": "south",
          "total": 1445059
         },
         {
          "group": "15000 to 24999",
          "id": 40,
          "name": "Oklahoma",
          "pct": 0.124,
          "region": "south",
          "total": 1445059
         },
         {
          "group": "25000 to 34999",
          "id": 40,
          "name": "Oklahoma",
          "pct": 0.11900000000000001,
          "region": "south",
          "total": 1445059
         },
         {
          "group": "35000 to 49999",
          "id": 40,
          "name": "Oklahoma",
          "pct": 0.151,
          "region": "south",
          "total": 1445059
         },
         {
          "group": "75000 to 99999",
          "id": 40,
          "name": "Oklahoma",
          "pct": 0.112,
          "region": "south",
          "total": 1445059
         },
         {
          "group": "50000 to 74999",
          "id": 40,
          "name": "Oklahoma",
          "pct": 0.187,
          "region": "south",
          "total": 1445059
         },
         {
          "group": "100000 to 149999",
          "id": 40,
          "name": "Oklahoma",
          "pct": 0.101,
          "region": "south",
          "total": 1445059
         },
         {
          "group": "150000 to 199999",
          "id": 40,
          "name": "Oklahoma",
          "pct": 0.03,
          "region": "south",
          "total": 1445059
         },
         {
          "group": "200000+",
          "id": 40,
          "name": "Oklahoma",
          "pct": 0.028,
          "region": "south",
          "total": 1445059
         },
         {
          "group": "<10000",
          "id": 41,
          "name": "Oregon",
          "pct": 0.078,
          "region": "west",
          "total": 1516591
         },
         {
          "group": "10000 to 14999",
          "id": 41,
          "name": "Oregon",
          "pct": 0.056,
          "region": "west",
          "total": 1516591
         },
         {
          "group": "15000 to 24999",
          "id": 41,
          "name": "Oregon",
          "pct": 0.116,
          "region": "west",
          "total": 1516591
         },
         {
          "group": "25000 to 34999",
          "id": 41,
          "name": "Oregon",
          "pct": 0.108,
          "region": "west",
          "total": 1516591
         },
         {
          "group": "35000 to 49999",
          "id": 41,
          "name": "Oregon",
          "pct": 0.145,
          "region": "west",
          "total": 1516591
         },
         {
          "group": "75000 to 99999",
          "id": 41,
          "name": "Oregon",
          "pct": 0.123,
          "region": "west",
          "total": 1516591
         },
         {
          "group": "50000 to 74999",
          "id": 41,
          "name": "Oregon",
          "pct": 0.187,
          "region": "west",
          "total": 1516591
         },
         {
          "group": "100000 to 149999",
          "id": 41,
          "name": "Oregon",
          "pct": 0.117,
          "region": "west",
          "total": 1516591
         },
         {
          "group": "150000 to 199999",
          "id": 41,
          "name": "Oregon",
          "pct": 0.036000000000000004,
          "region": "west",
          "total": 1516591
         },
         {
          "group": "200000+",
          "id": 41,
          "name": "Oregon",
          "pct": 0.033,
          "region": "west",
          "total": 1516591
         },
         {
          "group": "<10000",
          "id": 42,
          "name": "Pennsylvania",
          "pct": 0.07100000000000001,
          "region": "northeast",
          "total": 4945140
         },
         {
          "group": "10000 to 14999",
          "id": 42,
          "name": "Pennsylvania",
          "pct": 0.057,
          "region": "northeast",
          "total": 4945140
         },
         {
          "group": "15000 to 24999",
          "id": 42,
          "name": "Pennsylvania",
          "pct": 0.111,
          "region": "northeast",
          "total": 4945140
         },
         {
          "group": "25000 to 34999",
          "id": 42,
          "name": "Pennsylvania",
          "pct": 0.105,
          "region": "northeast",
          "total": 4945140
         },
         {
          "group": "35000 to 49999",
          "id": 42,
          "name": "Pennsylvania",
          "pct": 0.138,
          "region": "northeast",
          "total": 4945140
         },
         {
          "group": "75000 to 99999",
          "id": 42,
          "name": "Pennsylvania",
          "pct": 0.123,
          "region": "northeast",
          "total": 4945140
         },
         {
          "group": "50000 to 74999",
          "id": 42,
          "name": "Pennsylvania",
          "pct": 0.186,
          "region": "northeast",
          "total": 4945140
         },
         {
          "group": "100000 to 149999",
          "id": 42,
          "name": "Pennsylvania",
          "pct": 0.125,
          "region": "northeast",
          "total": 4945140
         },
         {
          "group": "150000 to 199999",
          "id": 42,
          "name": "Pennsylvania",
          "pct": 0.044,
          "region": "northeast",
          "total": 4945140
         },
         {
          "group": "200000+",
          "id": 42,
          "name": "Pennsylvania",
          "pct": 0.042,
          "region": "northeast",
          "total": 4945140
         },
         {
          "group": "<10000",
          "id": 44,
          "name": "Rhode Island",
          "pct": 0.078,
          "region": "northeast",
          "total": 410347
         },
         {
          "group": "10000 to 14999",
          "id": 44,
          "name": "Rhode Island",
          "pct": 0.056,
          "region": "northeast",
          "total": 410347
         },
         {
          "group": "15000 to 24999",
          "id": 44,
          "name": "Rhode Island",
          "pct": 0.10300000000000001,
          "region": "northeast",
          "total": 410347
         },
         {
          "group": "25000 to 34999",
          "id": 44,
          "name": "Rhode Island",
          "pct": 0.091,
          "region": "northeast",
          "total": 410347
         },
         {
          "group": "35000 to 49999",
          "id": 44,
          "name": "Rhode Island",
          "pct": 0.126,
          "region": "northeast",
          "total": 410347
         },
         {
          "group": "75000 to 99999",
          "id": 44,
          "name": "Rhode Island",
          "pct": 0.125,
          "region": "northeast",
          "total": 410347
         },
         {
          "group": "50000 to 74999",
          "id": 44,
          "name": "Rhode Island",
          "pct": 0.17300000000000001,
          "region": "northeast",
          "total": 410347
         },
         {
          "group": "100000 to 149999",
          "id": 44,
          "name": "Rhode Island",
          "pct": 0.14300000000000002,
          "region": "northeast",
          "total": 410347
         },
         {
          "group": "150000 to 199999",
          "id": 44,
          "name": "Rhode Island",
          "pct": 0.058,
          "region": "northeast",
          "total": 410347
         },
         {
          "group": "200000+",
          "id": 44,
          "name": "Rhode Island",
          "pct": 0.047,
          "region": "northeast",
          "total": 410347
         },
         {
          "group": "<10000",
          "id": 45,
          "name": "South Carolina",
          "pct": 0.093,
          "region": "south",
          "total": 1781957
         },
         {
          "group": "10000 to 14999",
          "id": 45,
          "name": "South Carolina",
          "pct": 0.067,
          "region": "south",
          "total": 1781957
         },
         {
          "group": "15000 to 24999",
          "id": 45,
          "name": "South Carolina",
          "pct": 0.127,
          "region": "south",
          "total": 1781957
         },
         {
          "group": "25000 to 34999",
          "id": 45,
          "name": "South Carolina",
          "pct": 0.11800000000000001,
          "region": "south",
          "total": 1781957
         },
         {
          "group": "35000 to 49999",
          "id": 45,
          "name": "South Carolina",
          "pct": 0.147,
          "region": "south",
          "total": 1781957
         },
         {
          "group": "75000 to 99999",
          "id": 45,
          "name": "South Carolina",
          "pct": 0.108,
          "region": "south",
          "total": 1781957
         },
         {
          "group": "50000 to 74999",
          "id": 45,
          "name": "South Carolina",
          "pct": 0.181,
          "region": "south",
          "total": 1781957
         },
         {
          "group": "100000 to 149999",
          "id": 45,
          "name": "South Carolina",
          "pct": 0.1,
          "region": "south",
          "total": 1781957
         },
         {
          "group": "150000 to 199999",
          "id": 45,
          "name": "South Carolina",
          "pct": 0.031,
          "region": "south",
          "total": 1781957
         },
         {
          "group": "200000+",
          "id": 45,
          "name": "South Carolina",
          "pct": 0.026000000000000002,
          "region": "south",
          "total": 1781957
         },
         {
          "group": "<10000",
          "id": 46,
          "name": "South Dakota",
          "pct": 0.064,
          "region": "midwest",
          "total": 326086
         },
         {
          "group": "10000 to 14999",
          "id": 46,
          "name": "South Dakota",
          "pct": 0.058,
          "region": "midwest",
          "total": 326086
         },
         {
          "group": "15000 to 24999",
          "id": 46,
          "name": "South Dakota",
          "pct": 0.111,
          "region": "midwest",
          "total": 326086
         },
         {
          "group": "25000 to 34999",
          "id": 46,
          "name": "South Dakota",
          "pct": 0.114,
          "region": "midwest",
          "total": 326086
         },
         {
          "group": "35000 to 49999",
          "id": 46,
          "name": "South Dakota",
          "pct": 0.16,
          "region": "midwest",
          "total": 326086
         },
         {
          "group": "75000 to 99999",
          "id": 46,
          "name": "South Dakota",
          "pct": 0.133,
          "region": "midwest",
          "total": 326086
         },
         {
          "group": "50000 to 74999",
          "id": 46,
          "name": "South Dakota",
          "pct": 0.199,
          "region": "midwest",
          "total": 326086
         },
         {
          "group": "100000 to 149999",
          "id": 46,
          "name": "South Dakota",
          "pct": 0.10400000000000001,
          "region": "midwest",
          "total": 326086
         },
         {
          "group": "150000 to 199999",
          "id": 46,
          "name": "South Dakota",
          "pct": 0.028,
          "region": "midwest",
          "total": 326086
         },
         {
          "group": "200000+",
          "id": 46,
          "name": "South Dakota",
          "pct": 0.03,
          "region": "midwest",
          "total": 326086
         },
         {
          "group": "<10000",
          "id": 47,
          "name": "Tennessee",
          "pct": 0.089,
          "region": "south",
          "total": 2480467
         },
         {
          "group": "10000 to 14999",
          "id": 47,
          "name": "Tennessee",
          "pct": 0.066,
          "region": "south",
          "total": 2480467
         },
         {
          "group": "15000 to 24999",
          "id": 47,
          "name": "Tennessee",
          "pct": 0.13,
          "region": "south",
          "total": 2480467
         },
         {
          "group": "25000 to 34999",
          "id": 47,
          "name": "Tennessee",
          "pct": 0.122,
          "region": "south",
          "total": 2480467
         },
         {
          "group": "35000 to 49999",
          "id": 47,
          "name": "Tennessee",
          "pct": 0.149,
          "region": "south",
          "total": 2480467
         },
         {
          "group": "75000 to 99999",
          "id": 47,
          "name": "Tennessee",
          "pct": 0.108,
          "region": "south",
          "total": 2480467
         },
         {
          "group": "50000 to 74999",
          "id": 47,
          "name": "Tennessee",
          "pct": 0.18,
          "region": "south",
          "total": 2480467
         },
         {
          "group": "100000 to 149999",
          "id": 47,
          "name": "Tennessee",
          "pct": 0.097,
          "region": "south",
          "total": 2480467
         },
         {
          "group": "150000 to 199999",
          "id": 47,
          "name": "Tennessee",
          "pct": 0.03,
          "region": "south",
          "total": 2480467
         },
         {
          "group": "200000+",
          "id": 47,
          "name": "Tennessee",
          "pct": 0.029,
          "region": "south",
          "total": 2480467
         },
         {
          "group": "<10000",
          "id": 48,
          "name": "Texas",
          "pct": 0.076,
          "region": "south",
          "total": 8965352
         },
         {
          "group": "10000 to 14999",
          "id": 48,
          "name": "Texas",
          "pct": 0.054,
          "region": "south",
          "total": 8965352
         },
         {
          "group": "15000 to 24999",
          "id": 48,
          "name": "Texas",
          "pct": 0.111,
          "region": "south",
          "total": 8965352
         },
         {
          "group": "25000 to 34999",
          "id": 48,
          "name": "Texas",
          "pct": 0.107,
          "region": "south",
          "total": 8965352
         },
         {
          "group": "35000 to 49999",
          "id": 48,
          "name": "Texas",
          "pct": 0.139,
          "region": "south",
          "total": 8965352
         },
         {
          "group": "75000 to 99999",
          "id": 48,
          "name": "Texas",
          "pct": 0.115,
          "region": "south",
          "total": 8965352
         },
         {
          "group": "50000 to 74999",
          "id": 48,
          "name": "Texas",
          "pct": 0.178,
          "region": "south",
          "total": 8965352
         },
         {
          "group": "100000 to 149999",
          "id": 48,
          "name": "Texas",
          "pct": 0.126,
          "region": "south",
          "total": 8965352
         },
         {
          "group": "150000 to 199999",
          "id": 48,
          "name": "Texas",
          "pct": 0.047,
          "region": "south",
          "total": 8965352
         },
         {
          "group": "200000+",
          "id": 48,
          "name": "Texas",
          "pct": 0.048,
          "region": "south",
          "total": 8965352
         },
         {
          "group": "<10000",
          "id": 49,
          "name": "Utah",
          "pct": 0.053,
          "region": "west",
          "total": 891240
         },
         {
          "group": "10000 to 14999",
          "id": 49,
          "name": "Utah",
          "pct": 0.041,
          "region": "west",
          "total": 891240
         },
         {
          "group": "15000 to 24999",
          "id": 49,
          "name": "Utah",
          "pct": 0.091,
          "region": "west",
          "total": 891240
         },
         {
          "group": "25000 to 34999",
          "id": 49,
          "name": "Utah",
          "pct": 0.093,
          "region": "west",
          "total": 891240
         },
         {
          "group": "35000 to 49999",
          "id": 49,
          "name": "Utah",
          "pct": 0.14400000000000002,
          "region": "west",
          "total": 891240
         },
         {
          "group": "75000 to 99999",
          "id": 49,
          "name": "Utah",
          "pct": 0.145,
          "region": "west",
          "total": 891240
         },
         {
          "group": "50000 to 74999",
          "id": 49,
          "name": "Utah",
          "pct": 0.213,
          "region": "west",
          "total": 891240
         },
         {
          "group": "100000 to 149999",
          "id": 49,
          "name": "Utah",
          "pct": 0.14,
          "region": "west",
          "total": 891240
         },
         {
          "group": "150000 to 199999",
          "id": 49,
          "name": "Utah",
          "pct": 0.043000000000000003,
          "region": "west",
          "total": 891240
         },
         {
          "group": "200000+",
          "id": 49,
          "name": "Utah",
          "pct": 0.038,
          "region": "west",
          "total": 891240
         },
         {
          "group": "<10000",
          "id": 50,
          "name": "Vermont",
          "pct": 0.057,
          "region": "northeast",
          "total": 256563
         },
         {
          "group": "10000 to 14999",
          "id": 50,
          "name": "Vermont",
          "pct": 0.06,
          "region": "northeast",
          "total": 256563
         },
         {
          "group": "15000 to 24999",
          "id": 50,
          "name": "Vermont",
          "pct": 0.10200000000000001,
          "region": "northeast",
          "total": 256563
         },
         {
          "group": "25000 to 34999",
          "id": 50,
          "name": "Vermont",
          "pct": 0.10300000000000001,
          "region": "northeast",
          "total": 256563
         },
         {
          "group": "35000 to 49999",
          "id": 50,
          "name": "Vermont",
          "pct": 0.14300000000000002,
          "region": "northeast",
          "total": 256563
         },
         {
          "group": "75000 to 99999",
          "id": 50,
          "name": "Vermont",
          "pct": 0.138,
          "region": "northeast",
          "total": 256563
         },
         {
          "group": "50000 to 74999",
          "id": 50,
          "name": "Vermont",
          "pct": 0.196,
          "region": "northeast",
          "total": 256563
         },
         {
          "group": "100000 to 149999",
          "id": 50,
          "name": "Vermont",
          "pct": 0.125,
          "region": "northeast",
          "total": 256563
         },
         {
          "group": "150000 to 199999",
          "id": 50,
          "name": "Vermont",
          "pct": 0.042,
          "region": "northeast",
          "total": 256563
         },
         {
          "group": "200000+",
          "id": 50,
          "name": "Vermont",
          "pct": 0.035,
          "region": "northeast",
          "total": 256563
         },
         {
          "group": "<10000",
          "id": 51,
          "name": "Virginia",
          "pct": 0.059000000000000004,
          "region": "south",
          "total": 3026761
         },
         {
          "group": "10000 to 14999",
          "id": 51,
          "name": "Virginia",
          "pct": 0.042,
          "region": "south",
          "total": 3026761
         },
         {
          "group": "15000 to 24999",
          "id": 51,
          "name": "Virginia",
          "pct": 0.08600000000000001,
          "region": "south",
          "total": 3026761
         },
         {
          "group": "25000 to 34999",
          "id": 51,
          "name": "Virginia",
          "pct": 0.088,
          "region": "south",
          "total": 3026761
         },
         {
          "group": "35000 to 49999",
          "id": 51,
          "name": "Virginia",
          "pct": 0.124,
          "region": "south",
          "total": 3026761
         },
         {
          "group": "75000 to 99999",
          "id": 51,
          "name": "Virginia",
          "pct": 0.126,
          "region": "south",
          "total": 3026761
         },
         {
          "group": "50000 to 74999",
          "id": 51,
          "name": "Virginia",
          "pct": 0.177,
          "region": "south",
          "total": 3026761
         },
         {
          "group": "100000 to 149999",
          "id": 51,
          "name": "Virginia",
          "pct": 0.152,
          "region": "south",
          "total": 3026761
         },
         {
          "group": "150000 to 199999",
          "id": 51,
          "name": "Virginia",
          "pct": 0.07,
          "region": "south",
          "total": 3026761
         },
         {
          "group": "200000+",
          "id": 51,
          "name": "Virginia",
          "pct": 0.076,
          "region": "south",
          "total": 3026761
         },
         {
          "group": "<10000",
          "id": 53,
          "name": "Washington",
          "pct": 0.064,
          "region": "west",
          "total": 2634496
         },
         {
          "group": "10000 to 14999",
          "id": 53,
          "name": "Washington",
          "pct": 0.044,
          "region": "west",
          "total": 2634496
         },
         {
          "group": "15000 to 24999",
          "id": 53,
          "name": "Washington",
          "pct": 0.092,
          "region": "west",
          "total": 2634496
         },
         {
          "group": "25000 to 34999",
          "id": 53,
          "name": "Washington",
          "pct": 0.094,
          "region": "west",
          "total": 2634496
         },
         {
          "group": "35000 to 49999",
          "id": 53,
          "name": "Washington",
          "pct": 0.133,
          "region": "west",
          "total": 2634496
         },
         {
          "group": "75000 to 99999",
          "id": 53,
          "name": "Washington",
          "pct": 0.132,
          "region": "west",
          "total": 2634496
         },
         {
          "group": "50000 to 74999",
          "id": 53,
          "name": "Washington",
          "pct": 0.189,
          "region": "west",
          "total": 2634496
         },
         {
          "group": "100000 to 149999",
          "id": 53,
          "name": "Washington",
          "pct": 0.147,
          "region": "west",
          "total": 2634496
         },
         {
          "group": "150000 to 199999",
          "id": 53,
          "name": "Washington",
          "pct": 0.056,
          "region": "west",
          "total": 2634496
         },
         {
          "group": "200000+",
          "id": 53,
          "name": "Washington",
          "pct": 0.05,
          "region": "west",
          "total": 2634496
         },
         {
          "group": "<10000",
          "id": 54,
          "name": "West Virginia",
          "pct": 0.10400000000000001,
          "region": "south",
          "total": 739759
         },
         {
          "group": "10000 to 14999",
          "id": 54,
          "name": "West Virginia",
          "pct": 0.073,
          "region": "south",
          "total": 739759
         },
         {
          "group": "15000 to 24999",
          "id": 54,
          "name": "West Virginia",
          "pct": 0.14400000000000002,
          "region": "south",
          "total": 739759
         },
         {
          "group": "25000 to 34999",
          "id": 54,
          "name": "West Virginia",
          "pct": 0.11900000000000001,
          "region": "south",
          "total": 739759
         },
         {
          "group": "35000 to 49999",
          "id": 54,
          "name": "West Virginia",
          "pct": 0.146,
          "region": "south",
          "total": 739759
         },
         {
          "group": "75000 to 99999",
          "id": 54,
          "name": "West Virginia",
          "pct": 0.107,
          "region": "south",
          "total": 739759
         },
         {
          "group": "50000 to 74999",
          "id": 54,
          "name": "West Virginia",
          "pct": 0.17400000000000002,
          "region": "south",
          "total": 739759
         },
         {
          "group": "100000 to 149999",
          "id": 54,
          "name": "West Virginia",
          "pct": 0.088,
          "region": "south",
          "total": 739759
         },
         {
          "group": "150000 to 199999",
          "id": 54,
          "name": "West Virginia",
          "pct": 0.025,
          "region": "south",
          "total": 739759
         },
         {
          "group": "200000+",
          "id": 54,
          "name": "West Virginia",
          "pct": 0.02,
          "region": "south",
          "total": 739759
         },
         {
          "group": "<10000",
          "id": 55,
          "name": "Wisconsin",
          "pct": 0.062,
          "region": "midwest",
          "total": 2281781
         },
         {
          "group": "10000 to 14999",
          "id": 55,
          "name": "Wisconsin",
          "pct": 0.055,
          "region": "midwest",
          "total": 2281781
         },
         {
          "group": "15000 to 24999",
          "id": 55,
          "name": "Wisconsin",
          "pct": 0.111,
          "region": "midwest",
          "total": 2281781
         },
         {
          "group": "25000 to 34999",
          "id": 55,
          "name": "Wisconsin",
          "pct": 0.107,
          "region": "midwest",
          "total": 2281781
         },
         {
          "group": "35000 to 49999",
          "id": 55,
          "name": "Wisconsin",
          "pct": 0.147,
          "region": "midwest",
          "total": 2281781
         },
         {
          "group": "75000 to 99999",
          "id": 55,
          "name": "Wisconsin",
          "pct": 0.131,
          "region": "midwest",
          "total": 2281781
         },
         {
          "group": "50000 to 74999",
          "id": 55,
          "name": "Wisconsin",
          "pct": 0.199,
          "region": "midwest",
          "total": 2281781
         },
         {
          "group": "100000 to 149999",
          "id": 55,
          "name": "Wisconsin",
          "pct": 0.123,
          "region": "midwest",
          "total": 2281781
         },
         {
          "group": "150000 to 199999",
          "id": 55,
          "name": "Wisconsin",
          "pct": 0.035,
          "region": "midwest",
          "total": 2281781
         },
         {
          "group": "200000+",
          "id": 55,
          "name": "Wisconsin",
          "pct": 0.03,
          "region": "midwest",
          "total": 2281781
         },
         {
          "group": "<10000",
          "id": 56,
          "name": "Wyoming",
          "pct": 0.048,
          "region": "west",
          "total": 222679
         },
         {
          "group": "10000 to 14999",
          "id": 56,
          "name": "Wyoming",
          "pct": 0.05,
          "region": "west",
          "total": 222679
         },
         {
          "group": "15000 to 24999",
          "id": 56,
          "name": "Wyoming",
          "pct": 0.098,
          "region": "west",
          "total": 222679
         },
         {
          "group": "25000 to 34999",
          "id": 56,
          "name": "Wyoming",
          "pct": 0.10300000000000001,
          "region": "west",
          "total": 222679
         },
         {
          "group": "35000 to 49999",
          "id": 56,
          "name": "Wyoming",
          "pct": 0.139,
          "region": "west",
          "total": 222679
         },
         {
          "group": "75000 to 99999",
          "id": 56,
          "name": "Wyoming",
          "pct": 0.14200000000000002,
          "region": "west",
          "total": 222679
         },
         {
          "group": "50000 to 74999",
          "id": 56,
          "name": "Wyoming",
          "pct": 0.196,
          "region": "west",
          "total": 222679
         },
         {
          "group": "100000 to 149999",
          "id": 56,
          "name": "Wyoming",
          "pct": 0.151,
          "region": "west",
          "total": 222679
         },
         {
          "group": "150000 to 199999",
          "id": 56,
          "name": "Wyoming",
          "pct": 0.044,
          "region": "west",
          "total": 222679
         },
         {
          "group": "200000+",
          "id": 56,
          "name": "Wyoming",
          "pct": 0.029,
          "region": "west",
          "total": 222679
         },
         {
          "group": "<10000",
          "id": 72,
          "name": "Puerto Rico",
          "pct": 0.289,
          "region": "other",
          "total": 1254274
         },
         {
          "group": "10000 to 14999",
          "id": 72,
          "name": "Puerto Rico",
          "pct": 0.11800000000000001,
          "region": "other",
          "total": 1254274
         },
         {
          "group": "15000 to 24999",
          "id": 72,
          "name": "Puerto Rico",
          "pct": 0.186,
          "region": "other",
          "total": 1254274
         },
         {
          "group": "25000 to 34999",
          "id": 72,
          "name": "Puerto Rico",
          "pct": 0.123,
          "region": "other",
          "total": 1254274
         },
         {
          "group": "35000 to 49999",
          "id": 72,
          "name": "Puerto Rico",
          "pct": 0.116,
          "region": "other",
          "total": 1254274
         },
         {
          "group": "75000 to 99999",
          "id": 72,
          "name": "Puerto Rico",
          "pct": 0.035,
          "region": "other",
          "total": 1254274
         },
         {
          "group": "50000 to 74999",
          "id": 72,
          "name": "Puerto Rico",
          "pct": 0.094,
          "region": "other",
          "total": 1254274
         },
         {
          "group": "100000 to 149999",
          "id": 72,
          "name": "Puerto Rico",
          "pct": 0.024,
          "region": "other",
          "total": 1254274
         },
         {
          "group": "150000 to 199999",
          "id": 72,
          "name": "Puerto Rico",
          "pct": 0.008,
          "region": "other",
          "total": 1254274
         },
         {
          "group": "200000+",
          "id": 72,
          "name": "Puerto Rico",
          "pct": 0.006,
          "region": "other",
          "total": 1254274
         }
        ]
       },
       "encoding": {
        "color": {
         "field": "group",
         "type": "nominal"
        },
        "x": {
         "field": "total",
         "type": "quantitative"
        },
        "y": {
         "field": "pct",
         "type": "quantitative"
        }
       },
       "mark": "point"
      },
      "image/png": "[encoded data removed]",
      "text/plain": [
       "<VegaLite 3 object>\n",
       "\n",
       "If you see this message, it means the renderer has not been properly enabled\n",
       "for the frontend that you are using. For more information, see\n",
       "https://altair-viz.github.io/user_guide/troubleshooting.html\n"
      ]
     },
     "execution_count": 31,
     "metadata": {},
     "output_type": "execute_result"
    }
   ],
   "source": [
    "import altair as alt\n",
    "alt.Chart(income).mark_point().encode(\n",
    "    x='total',\n",
    "    y='pct',\n",
    "    color='group'\n",
    "    \n",
    ")\n"
   ]
  },
  {
   "cell_type": "code",
   "execution_count": 32,
   "metadata": {},
   "outputs": [],
   "source": [
    "wheat = data.wheat()"
   ]
  },
  {
   "cell_type": "code",
   "execution_count": 34,
   "metadata": {},
   "outputs": [
    {
     "data": {
      "text/html": [
       "<div>\n",
       "<style scoped>\n",
       "    .dataframe tbody tr th:only-of-type {\n",
       "        vertical-align: middle;\n",
       "    }\n",
       "\n",
       "    .dataframe tbody tr th {\n",
       "        vertical-align: top;\n",
       "    }\n",
       "\n",
       "    .dataframe thead th {\n",
       "        text-align: right;\n",
       "    }\n",
       "</style>\n",
       "<table border=\"1\" class=\"dataframe\">\n",
       "  <thead>\n",
       "    <tr style=\"text-align: right;\">\n",
       "      <th></th>\n",
       "      <th>wages</th>\n",
       "      <th>wheat</th>\n",
       "      <th>year</th>\n",
       "    </tr>\n",
       "  </thead>\n",
       "  <tbody>\n",
       "    <tr>\n",
       "      <th>0</th>\n",
       "      <td>5.00</td>\n",
       "      <td>41.0</td>\n",
       "      <td>1565</td>\n",
       "    </tr>\n",
       "    <tr>\n",
       "      <th>1</th>\n",
       "      <td>5.05</td>\n",
       "      <td>45.0</td>\n",
       "      <td>1570</td>\n",
       "    </tr>\n",
       "    <tr>\n",
       "      <th>2</th>\n",
       "      <td>5.08</td>\n",
       "      <td>42.0</td>\n",
       "      <td>1575</td>\n",
       "    </tr>\n",
       "    <tr>\n",
       "      <th>3</th>\n",
       "      <td>5.12</td>\n",
       "      <td>49.0</td>\n",
       "      <td>1580</td>\n",
       "    </tr>\n",
       "    <tr>\n",
       "      <th>4</th>\n",
       "      <td>5.15</td>\n",
       "      <td>41.5</td>\n",
       "      <td>1585</td>\n",
       "    </tr>\n",
       "    <tr>\n",
       "      <th>5</th>\n",
       "      <td>5.25</td>\n",
       "      <td>47.0</td>\n",
       "      <td>1590</td>\n",
       "    </tr>\n",
       "    <tr>\n",
       "      <th>6</th>\n",
       "      <td>5.54</td>\n",
       "      <td>64.0</td>\n",
       "      <td>1595</td>\n",
       "    </tr>\n",
       "    <tr>\n",
       "      <th>7</th>\n",
       "      <td>5.61</td>\n",
       "      <td>27.0</td>\n",
       "      <td>1600</td>\n",
       "    </tr>\n",
       "    <tr>\n",
       "      <th>8</th>\n",
       "      <td>5.69</td>\n",
       "      <td>33.0</td>\n",
       "      <td>1605</td>\n",
       "    </tr>\n",
       "    <tr>\n",
       "      <th>9</th>\n",
       "      <td>5.78</td>\n",
       "      <td>32.0</td>\n",
       "      <td>1610</td>\n",
       "    </tr>\n",
       "    <tr>\n",
       "      <th>10</th>\n",
       "      <td>5.94</td>\n",
       "      <td>33.0</td>\n",
       "      <td>1615</td>\n",
       "    </tr>\n",
       "    <tr>\n",
       "      <th>11</th>\n",
       "      <td>6.01</td>\n",
       "      <td>35.0</td>\n",
       "      <td>1620</td>\n",
       "    </tr>\n",
       "    <tr>\n",
       "      <th>12</th>\n",
       "      <td>6.12</td>\n",
       "      <td>33.0</td>\n",
       "      <td>1625</td>\n",
       "    </tr>\n",
       "    <tr>\n",
       "      <th>13</th>\n",
       "      <td>6.22</td>\n",
       "      <td>45.0</td>\n",
       "      <td>1630</td>\n",
       "    </tr>\n",
       "    <tr>\n",
       "      <th>14</th>\n",
       "      <td>6.30</td>\n",
       "      <td>33.0</td>\n",
       "      <td>1635</td>\n",
       "    </tr>\n",
       "    <tr>\n",
       "      <th>15</th>\n",
       "      <td>6.37</td>\n",
       "      <td>39.0</td>\n",
       "      <td>1640</td>\n",
       "    </tr>\n",
       "    <tr>\n",
       "      <th>16</th>\n",
       "      <td>6.45</td>\n",
       "      <td>53.0</td>\n",
       "      <td>1645</td>\n",
       "    </tr>\n",
       "    <tr>\n",
       "      <th>17</th>\n",
       "      <td>6.50</td>\n",
       "      <td>42.0</td>\n",
       "      <td>1650</td>\n",
       "    </tr>\n",
       "    <tr>\n",
       "      <th>18</th>\n",
       "      <td>6.60</td>\n",
       "      <td>40.5</td>\n",
       "      <td>1655</td>\n",
       "    </tr>\n",
       "    <tr>\n",
       "      <th>19</th>\n",
       "      <td>6.75</td>\n",
       "      <td>46.5</td>\n",
       "      <td>1660</td>\n",
       "    </tr>\n",
       "    <tr>\n",
       "      <th>20</th>\n",
       "      <td>6.80</td>\n",
       "      <td>32.0</td>\n",
       "      <td>1665</td>\n",
       "    </tr>\n",
       "    <tr>\n",
       "      <th>21</th>\n",
       "      <td>6.90</td>\n",
       "      <td>37.0</td>\n",
       "      <td>1670</td>\n",
       "    </tr>\n",
       "    <tr>\n",
       "      <th>22</th>\n",
       "      <td>7.00</td>\n",
       "      <td>43.0</td>\n",
       "      <td>1675</td>\n",
       "    </tr>\n",
       "    <tr>\n",
       "      <th>23</th>\n",
       "      <td>7.30</td>\n",
       "      <td>35.0</td>\n",
       "      <td>1680</td>\n",
       "    </tr>\n",
       "    <tr>\n",
       "      <th>24</th>\n",
       "      <td>7.60</td>\n",
       "      <td>27.0</td>\n",
       "      <td>1685</td>\n",
       "    </tr>\n",
       "    <tr>\n",
       "      <th>25</th>\n",
       "      <td>8.00</td>\n",
       "      <td>40.0</td>\n",
       "      <td>1690</td>\n",
       "    </tr>\n",
       "    <tr>\n",
       "      <th>26</th>\n",
       "      <td>8.50</td>\n",
       "      <td>50.0</td>\n",
       "      <td>1695</td>\n",
       "    </tr>\n",
       "    <tr>\n",
       "      <th>27</th>\n",
       "      <td>9.00</td>\n",
       "      <td>30.0</td>\n",
       "      <td>1700</td>\n",
       "    </tr>\n",
       "    <tr>\n",
       "      <th>28</th>\n",
       "      <td>10.00</td>\n",
       "      <td>32.0</td>\n",
       "      <td>1705</td>\n",
       "    </tr>\n",
       "    <tr>\n",
       "      <th>29</th>\n",
       "      <td>11.00</td>\n",
       "      <td>44.0</td>\n",
       "      <td>1710</td>\n",
       "    </tr>\n",
       "    <tr>\n",
       "      <th>30</th>\n",
       "      <td>11.75</td>\n",
       "      <td>33.0</td>\n",
       "      <td>1715</td>\n",
       "    </tr>\n",
       "    <tr>\n",
       "      <th>31</th>\n",
       "      <td>12.50</td>\n",
       "      <td>29.0</td>\n",
       "      <td>1720</td>\n",
       "    </tr>\n",
       "    <tr>\n",
       "      <th>32</th>\n",
       "      <td>13.00</td>\n",
       "      <td>39.0</td>\n",
       "      <td>1725</td>\n",
       "    </tr>\n",
       "    <tr>\n",
       "      <th>33</th>\n",
       "      <td>13.30</td>\n",
       "      <td>26.0</td>\n",
       "      <td>1730</td>\n",
       "    </tr>\n",
       "    <tr>\n",
       "      <th>34</th>\n",
       "      <td>13.60</td>\n",
       "      <td>32.0</td>\n",
       "      <td>1735</td>\n",
       "    </tr>\n",
       "    <tr>\n",
       "      <th>35</th>\n",
       "      <td>14.00</td>\n",
       "      <td>27.0</td>\n",
       "      <td>1740</td>\n",
       "    </tr>\n",
       "    <tr>\n",
       "      <th>36</th>\n",
       "      <td>14.50</td>\n",
       "      <td>27.5</td>\n",
       "      <td>1745</td>\n",
       "    </tr>\n",
       "    <tr>\n",
       "      <th>37</th>\n",
       "      <td>15.00</td>\n",
       "      <td>31.0</td>\n",
       "      <td>1750</td>\n",
       "    </tr>\n",
       "    <tr>\n",
       "      <th>38</th>\n",
       "      <td>15.70</td>\n",
       "      <td>35.5</td>\n",
       "      <td>1755</td>\n",
       "    </tr>\n",
       "    <tr>\n",
       "      <th>39</th>\n",
       "      <td>16.50</td>\n",
       "      <td>31.0</td>\n",
       "      <td>1760</td>\n",
       "    </tr>\n",
       "    <tr>\n",
       "      <th>40</th>\n",
       "      <td>17.60</td>\n",
       "      <td>43.0</td>\n",
       "      <td>1765</td>\n",
       "    </tr>\n",
       "    <tr>\n",
       "      <th>41</th>\n",
       "      <td>18.50</td>\n",
       "      <td>47.0</td>\n",
       "      <td>1770</td>\n",
       "    </tr>\n",
       "    <tr>\n",
       "      <th>42</th>\n",
       "      <td>19.50</td>\n",
       "      <td>44.0</td>\n",
       "      <td>1775</td>\n",
       "    </tr>\n",
       "    <tr>\n",
       "      <th>43</th>\n",
       "      <td>21.00</td>\n",
       "      <td>46.0</td>\n",
       "      <td>1780</td>\n",
       "    </tr>\n",
       "    <tr>\n",
       "      <th>44</th>\n",
       "      <td>23.00</td>\n",
       "      <td>42.0</td>\n",
       "      <td>1785</td>\n",
       "    </tr>\n",
       "    <tr>\n",
       "      <th>45</th>\n",
       "      <td>25.50</td>\n",
       "      <td>47.5</td>\n",
       "      <td>1790</td>\n",
       "    </tr>\n",
       "    <tr>\n",
       "      <th>46</th>\n",
       "      <td>27.50</td>\n",
       "      <td>76.0</td>\n",
       "      <td>1795</td>\n",
       "    </tr>\n",
       "    <tr>\n",
       "      <th>47</th>\n",
       "      <td>28.50</td>\n",
       "      <td>79.0</td>\n",
       "      <td>1800</td>\n",
       "    </tr>\n",
       "    <tr>\n",
       "      <th>48</th>\n",
       "      <td>29.50</td>\n",
       "      <td>81.0</td>\n",
       "      <td>1805</td>\n",
       "    </tr>\n",
       "    <tr>\n",
       "      <th>49</th>\n",
       "      <td>30.00</td>\n",
       "      <td>99.0</td>\n",
       "      <td>1810</td>\n",
       "    </tr>\n",
       "    <tr>\n",
       "      <th>50</th>\n",
       "      <td>NaN</td>\n",
       "      <td>78.0</td>\n",
       "      <td>1815</td>\n",
       "    </tr>\n",
       "    <tr>\n",
       "      <th>51</th>\n",
       "      <td>NaN</td>\n",
       "      <td>54.0</td>\n",
       "      <td>1820</td>\n",
       "    </tr>\n",
       "  </tbody>\n",
       "</table>\n",
       "</div>"
      ],
      "text/plain": [
       "    wages  wheat  year\n",
       "0    5.00   41.0  1565\n",
       "1    5.05   45.0  1570\n",
       "2    5.08   42.0  1575\n",
       "3    5.12   49.0  1580\n",
       "4    5.15   41.5  1585\n",
       "5    5.25   47.0  1590\n",
       "6    5.54   64.0  1595\n",
       "7    5.61   27.0  1600\n",
       "8    5.69   33.0  1605\n",
       "9    5.78   32.0  1610\n",
       "10   5.94   33.0  1615\n",
       "11   6.01   35.0  1620\n",
       "12   6.12   33.0  1625\n",
       "13   6.22   45.0  1630\n",
       "14   6.30   33.0  1635\n",
       "15   6.37   39.0  1640\n",
       "16   6.45   53.0  1645\n",
       "17   6.50   42.0  1650\n",
       "18   6.60   40.5  1655\n",
       "19   6.75   46.5  1660\n",
       "20   6.80   32.0  1665\n",
       "21   6.90   37.0  1670\n",
       "22   7.00   43.0  1675\n",
       "23   7.30   35.0  1680\n",
       "24   7.60   27.0  1685\n",
       "25   8.00   40.0  1690\n",
       "26   8.50   50.0  1695\n",
       "27   9.00   30.0  1700\n",
       "28  10.00   32.0  1705\n",
       "29  11.00   44.0  1710\n",
       "30  11.75   33.0  1715\n",
       "31  12.50   29.0  1720\n",
       "32  13.00   39.0  1725\n",
       "33  13.30   26.0  1730\n",
       "34  13.60   32.0  1735\n",
       "35  14.00   27.0  1740\n",
       "36  14.50   27.5  1745\n",
       "37  15.00   31.0  1750\n",
       "38  15.70   35.5  1755\n",
       "39  16.50   31.0  1760\n",
       "40  17.60   43.0  1765\n",
       "41  18.50   47.0  1770\n",
       "42  19.50   44.0  1775\n",
       "43  21.00   46.0  1780\n",
       "44  23.00   42.0  1785\n",
       "45  25.50   47.5  1790\n",
       "46  27.50   76.0  1795\n",
       "47  28.50   79.0  1800\n",
       "48  29.50   81.0  1805\n",
       "49  30.00   99.0  1810\n",
       "50    NaN   78.0  1815\n",
       "51    NaN   54.0  1820"
      ]
     },
     "execution_count": 34,
     "metadata": {},
     "output_type": "execute_result"
    }
   ],
   "source": [
    "pd.DataFrame(data=wheat)"
   ]
  },
  {
   "cell_type": "code",
   "execution_count": 45,
   "metadata": {},
   "outputs": [],
   "source": [
    "base = alt.Chart(wheat).encode(\n",
    "    x='wages',\n",
    "    y='wheat',\n",
    "    color='year',\n",
    ")"
   ]
  },
  {
   "cell_type": "code",
   "execution_count": 43,
   "metadata": {},
   "outputs": [
    {
     "data": {
      "application/vnd.vegalite.v3+json": {
       "$schema": "https://vega.github.io/schema/vega-lite/v3.3.0.json",
       "config": {
        "mark": {
         "tooltip": null
        },
        "view": {
         "height": 300,
         "width": 400
        }
       },
       "data": {
        "name": "data-76d1ce26ea5761007c35827e1564d86c"
       },
       "datasets": {
        "data-76d1ce26ea5761007c35827e1564d86c": [
         {
          "wages": 5,
          "wheat": 41,
          "year": 1565
         },
         {
          "wages": 5.05,
          "wheat": 45,
          "year": 1570
         },
         {
          "wages": 5.08,
          "wheat": 42,
          "year": 1575
         },
         {
          "wages": 5.12,
          "wheat": 49,
          "year": 1580
         },
         {
          "wages": 5.15,
          "wheat": 41.5,
          "year": 1585
         },
         {
          "wages": 5.25,
          "wheat": 47,
          "year": 1590
         },
         {
          "wages": 5.54,
          "wheat": 64,
          "year": 1595
         },
         {
          "wages": 5.61,
          "wheat": 27,
          "year": 1600
         },
         {
          "wages": 5.69,
          "wheat": 33,
          "year": 1605
         },
         {
          "wages": 5.78,
          "wheat": 32,
          "year": 1610
         },
         {
          "wages": 5.94,
          "wheat": 33,
          "year": 1615
         },
         {
          "wages": 6.01,
          "wheat": 35,
          "year": 1620
         },
         {
          "wages": 6.12,
          "wheat": 33,
          "year": 1625
         },
         {
          "wages": 6.22,
          "wheat": 45,
          "year": 1630
         },
         {
          "wages": 6.3,
          "wheat": 33,
          "year": 1635
         },
         {
          "wages": 6.37,
          "wheat": 39,
          "year": 1640
         },
         {
          "wages": 6.45,
          "wheat": 53,
          "year": 1645
         },
         {
          "wages": 6.5,
          "wheat": 42,
          "year": 1650
         },
         {
          "wages": 6.6,
          "wheat": 40.5,
          "year": 1655
         },
         {
          "wages": 6.75,
          "wheat": 46.5,
          "year": 1660
         },
         {
          "wages": 6.8,
          "wheat": 32,
          "year": 1665
         },
         {
          "wages": 6.9,
          "wheat": 37,
          "year": 1670
         },
         {
          "wages": 7,
          "wheat": 43,
          "year": 1675
         },
         {
          "wages": 7.3,
          "wheat": 35,
          "year": 1680
         },
         {
          "wages": 7.6,
          "wheat": 27,
          "year": 1685
         },
         {
          "wages": 8,
          "wheat": 40,
          "year": 1690
         },
         {
          "wages": 8.5,
          "wheat": 50,
          "year": 1695
         },
         {
          "wages": 9,
          "wheat": 30,
          "year": 1700
         },
         {
          "wages": 10,
          "wheat": 32,
          "year": 1705
         },
         {
          "wages": 11,
          "wheat": 44,
          "year": 1710
         },
         {
          "wages": 11.75,
          "wheat": 33,
          "year": 1715
         },
         {
          "wages": 12.5,
          "wheat": 29,
          "year": 1720
         },
         {
          "wages": 13,
          "wheat": 39,
          "year": 1725
         },
         {
          "wages": 13.3,
          "wheat": 26,
          "year": 1730
         },
         {
          "wages": 13.6,
          "wheat": 32,
          "year": 1735
         },
         {
          "wages": 14,
          "wheat": 27,
          "year": 1740
         },
         {
          "wages": 14.5,
          "wheat": 27.5,
          "year": 1745
         },
         {
          "wages": 15,
          "wheat": 31,
          "year": 1750
         },
         {
          "wages": 15.7,
          "wheat": 35.5,
          "year": 1755
         },
         {
          "wages": 16.5,
          "wheat": 31,
          "year": 1760
         },
         {
          "wages": 17.6,
          "wheat": 43,
          "year": 1765
         },
         {
          "wages": 18.5,
          "wheat": 47,
          "year": 1770
         },
         {
          "wages": 19.5,
          "wheat": 44,
          "year": 1775
         },
         {
          "wages": 21,
          "wheat": 46,
          "year": 1780
         },
         {
          "wages": 23,
          "wheat": 42,
          "year": 1785
         },
         {
          "wages": 25.5,
          "wheat": 47.5,
          "year": 1790
         },
         {
          "wages": 27.5,
          "wheat": 76,
          "year": 1795
         },
         {
          "wages": 28.5,
          "wheat": 79,
          "year": 1800
         },
         {
          "wages": 29.5,
          "wheat": 81,
          "year": 1805
         },
         {
          "wages": 30,
          "wheat": 99,
          "year": 1810
         },
         {
          "wages": null,
          "wheat": 78,
          "year": 1815
         },
         {
          "wages": null,
          "wheat": 54,
          "year": 1820
         }
        ]
       },
       "encoding": {
        "color": {
         "field": "year",
         "type": "quantitative"
        },
        "x": {
         "field": "wages",
         "type": "quantitative"
        },
        "y": {
         "field": "wheat",
         "type": "quantitative"
        }
       },
       "mark": "point"
      },
      "image/png": "[encoded data removed]",
      "text/plain": [
       "<VegaLite 3 object>\n",
       "\n",
       "If you see this message, it means the renderer has not been properly enabled\n",
       "for the frontend that you are using. For more information, see\n",
       "https://altair-viz.github.io/user_guide/troubleshooting.html\n"
      ]
     },
     "execution_count": 43,
     "metadata": {},
     "output_type": "execute_result"
    }
   ],
   "source": [
    "\n",
    "base.mark_point()\n"
   ]
  }
 ],
 "metadata": {
  "kernelspec": {
   "display_name": "Python 3",
   "language": "python",
   "name": "python3"
  },
  "language_info": {
   "codemirror_mode": {
    "name": "ipython",
    "version": 3
   },
   "file_extension": ".py",
   "mimetype": "text/x-python",
   "name": "python",
   "nbconvert_exporter": "python",
   "pygments_lexer": "ipython3",
   "version": "3.7.3"
  }
 },
 "nbformat": 4,
 "nbformat_minor": 4
}
